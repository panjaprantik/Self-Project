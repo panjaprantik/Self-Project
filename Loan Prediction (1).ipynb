{
 "cells": [
  {
   "cell_type": "code",
   "execution_count": 20,
   "metadata": {},
   "outputs": [],
   "source": [
    "import os\n",
    "from pandas import *\n",
    "import numpy as np\n",
    "import seaborn as sns\n",
    "from scipy import stats\n",
    "from IPython.display import display, HTML\n",
    "set_option('display.max_columns', None)\n"
   ]
  },
  {
   "cell_type": "code",
   "execution_count": 21,
   "metadata": {},
   "outputs": [
    {
     "name": "stdout",
     "output_type": "stream",
     "text": [
      "<class 'pandas.core.frame.DataFrame'>\n",
      "RangeIndex: 614 entries, 0 to 613\n",
      "Data columns (total 13 columns):\n",
      " #   Column             Non-Null Count  Dtype  \n",
      "---  ------             --------------  -----  \n",
      " 0   Loan_ID            614 non-null    object \n",
      " 1   Gender             601 non-null    object \n",
      " 2   Married            611 non-null    object \n",
      " 3   Dependents         599 non-null    object \n",
      " 4   Education          614 non-null    object \n",
      " 5   Self_Employed      582 non-null    object \n",
      " 6   ApplicantIncome    614 non-null    int64  \n",
      " 7   CoapplicantIncome  614 non-null    float64\n",
      " 8   LoanAmount         592 non-null    float64\n",
      " 9   Loan_Amount_Term   600 non-null    float64\n",
      " 10  Credit_History     564 non-null    float64\n",
      " 11  Property_Area      614 non-null    object \n",
      " 12  Loan_Status        614 non-null    object \n",
      "dtypes: float64(4), int64(1), object(8)\n",
      "memory usage: 62.5+ KB\n"
     ]
    }
   ],
   "source": [
    "path = \"G:/datasets/Loan Prediction\"\n",
    "def load_data(path = path):\n",
    "    csv_path = os.path.join(path,file_name)\n",
    "    return read_csv(csv_path)\n",
    "\n",
    "file_name = \"train_ctrUa4K.csv\"\n",
    "data = load_data(path)\n",
    "\n",
    "data.info()"
   ]
  },
  {
   "cell_type": "code",
   "execution_count": 22,
   "metadata": {},
   "outputs": [
    {
     "data": {
      "text/html": [
       "<div>\n",
       "<style scoped>\n",
       "    .dataframe tbody tr th:only-of-type {\n",
       "        vertical-align: middle;\n",
       "    }\n",
       "\n",
       "    .dataframe tbody tr th {\n",
       "        vertical-align: top;\n",
       "    }\n",
       "\n",
       "    .dataframe thead th {\n",
       "        text-align: right;\n",
       "    }\n",
       "</style>\n",
       "<table border=\"1\" class=\"dataframe\">\n",
       "  <thead>\n",
       "    <tr style=\"text-align: right;\">\n",
       "      <th></th>\n",
       "      <th>ApplicantIncome</th>\n",
       "      <th>CoapplicantIncome</th>\n",
       "      <th>LoanAmount</th>\n",
       "      <th>Loan_Amount_Term</th>\n",
       "      <th>Credit_History</th>\n",
       "    </tr>\n",
       "  </thead>\n",
       "  <tbody>\n",
       "    <tr>\n",
       "      <th>count</th>\n",
       "      <td>614.000000</td>\n",
       "      <td>614.000000</td>\n",
       "      <td>592.000000</td>\n",
       "      <td>600.00000</td>\n",
       "      <td>564.000000</td>\n",
       "    </tr>\n",
       "    <tr>\n",
       "      <th>mean</th>\n",
       "      <td>5403.459283</td>\n",
       "      <td>1621.245798</td>\n",
       "      <td>146.412162</td>\n",
       "      <td>342.00000</td>\n",
       "      <td>0.842199</td>\n",
       "    </tr>\n",
       "    <tr>\n",
       "      <th>std</th>\n",
       "      <td>6109.041673</td>\n",
       "      <td>2926.248369</td>\n",
       "      <td>85.587325</td>\n",
       "      <td>65.12041</td>\n",
       "      <td>0.364878</td>\n",
       "    </tr>\n",
       "    <tr>\n",
       "      <th>min</th>\n",
       "      <td>150.000000</td>\n",
       "      <td>0.000000</td>\n",
       "      <td>9.000000</td>\n",
       "      <td>12.00000</td>\n",
       "      <td>0.000000</td>\n",
       "    </tr>\n",
       "    <tr>\n",
       "      <th>25%</th>\n",
       "      <td>2877.500000</td>\n",
       "      <td>0.000000</td>\n",
       "      <td>100.000000</td>\n",
       "      <td>360.00000</td>\n",
       "      <td>1.000000</td>\n",
       "    </tr>\n",
       "    <tr>\n",
       "      <th>50%</th>\n",
       "      <td>3812.500000</td>\n",
       "      <td>1188.500000</td>\n",
       "      <td>128.000000</td>\n",
       "      <td>360.00000</td>\n",
       "      <td>1.000000</td>\n",
       "    </tr>\n",
       "    <tr>\n",
       "      <th>75%</th>\n",
       "      <td>5795.000000</td>\n",
       "      <td>2297.250000</td>\n",
       "      <td>168.000000</td>\n",
       "      <td>360.00000</td>\n",
       "      <td>1.000000</td>\n",
       "    </tr>\n",
       "    <tr>\n",
       "      <th>max</th>\n",
       "      <td>81000.000000</td>\n",
       "      <td>41667.000000</td>\n",
       "      <td>700.000000</td>\n",
       "      <td>480.00000</td>\n",
       "      <td>1.000000</td>\n",
       "    </tr>\n",
       "  </tbody>\n",
       "</table>\n",
       "</div>"
      ],
      "text/plain": [
       "       ApplicantIncome  CoapplicantIncome  LoanAmount  Loan_Amount_Term  \\\n",
       "count       614.000000         614.000000  592.000000         600.00000   \n",
       "mean       5403.459283        1621.245798  146.412162         342.00000   \n",
       "std        6109.041673        2926.248369   85.587325          65.12041   \n",
       "min         150.000000           0.000000    9.000000          12.00000   \n",
       "25%        2877.500000           0.000000  100.000000         360.00000   \n",
       "50%        3812.500000        1188.500000  128.000000         360.00000   \n",
       "75%        5795.000000        2297.250000  168.000000         360.00000   \n",
       "max       81000.000000       41667.000000  700.000000         480.00000   \n",
       "\n",
       "       Credit_History  \n",
       "count      564.000000  \n",
       "mean         0.842199  \n",
       "std          0.364878  \n",
       "min          0.000000  \n",
       "25%          1.000000  \n",
       "50%          1.000000  \n",
       "75%          1.000000  \n",
       "max          1.000000  "
      ]
     },
     "execution_count": 22,
     "metadata": {},
     "output_type": "execute_result"
    }
   ],
   "source": [
    "data.describe()"
   ]
  },
  {
   "cell_type": "code",
   "execution_count": null,
   "metadata": {},
   "outputs": [],
   "source": [
    "\n"
   ]
  },
  {
   "cell_type": "markdown",
   "metadata": {},
   "source": [
    "# Visualization"
   ]
  },
  {
   "cell_type": "code",
   "execution_count": 23,
   "metadata": {},
   "outputs": [
    {
     "data": {
      "image/png": "[encoded data removed]",
      "text/plain": [
       "<Figure size 432x288 with 1 Axes>"
      ]
     },
     "metadata": {
      "needs_background": "light"
     },
     "output_type": "display_data"
    }
   ],
   "source": [
    "_ = sns.countplot(data = data,x = \"Gender\",hue = \"Loan_Status\",saturation = 0.85)\n"
   ]
  },
  {
   "cell_type": "code",
   "execution_count": 24,
   "metadata": {},
   "outputs": [
    {
     "data": {
      "image/png": "[encoded data removed]",
      "text/plain": [
       "<Figure size 432x288 with 1 Axes>"
      ]
     },
     "metadata": {
      "needs_background": "light"
     },
     "output_type": "display_data"
    }
   ],
   "source": [
    "_ = sns.countplot(data = data,x = \"Self_Employed\",hue = \"Loan_Status\")"
   ]
  },
  {
   "cell_type": "code",
   "execution_count": 25,
   "metadata": {},
   "outputs": [
    {
     "data": {
      "image/png": "[encoded data removed]",
      "text/plain": [
       "<Figure size 432x288 with 1 Axes>"
      ]
     },
     "metadata": {
      "needs_background": "light"
     },
     "output_type": "display_data"
    }
   ],
   "source": [
    " _ = sns.countplot(data = data,x = \"Dependents\",hue = \"Loan_Status\")"
   ]
  },
  {
   "cell_type": "code",
   "execution_count": 26,
   "metadata": {},
   "outputs": [
    {
     "data": {
      "image/png": "[encoded data removed]",
      "text/plain": [
       "<Figure size 432x288 with 1 Axes>"
      ]
     },
     "metadata": {
      "needs_background": "light"
     },
     "output_type": "display_data"
    }
   ],
   "source": [
    "_ = sns.countplot(data = data,x = 'Credit_History',hue = 'Loan_Status')"
   ]
  },
  {
   "cell_type": "code",
   "execution_count": 27,
   "metadata": {},
   "outputs": [
    {
     "data": {
      "image/png": "[encoded data removed]",
      "text/plain": [
       "<Figure size 432x288 with 1 Axes>"
      ]
     },
     "metadata": {
      "needs_background": "light"
     },
     "output_type": "display_data"
    }
   ],
   "source": [
    "_ = sns.countplot(data = data , x = 'Property_Area',hue = 'Loan_Status')"
   ]
  },
  {
   "cell_type": "code",
   "execution_count": 28,
   "metadata": {},
   "outputs": [
    {
     "data": {
      "image/png": "[encoded data removed]",
      "text/plain": [
       "<Figure size 432x288 with 1 Axes>"
      ]
     },
     "metadata": {
      "needs_background": "light"
     },
     "output_type": "display_data"
    }
   ],
   "source": [
    "_ = sns.countplot(data = data,x = 'Education',hue = 'Loan_Status')"
   ]
  },
  {
   "cell_type": "code",
   "execution_count": null,
   "metadata": {},
   "outputs": [],
   "source": []
  },
  {
   "cell_type": "markdown",
   "metadata": {},
   "source": [
    "# Data Preprocessing"
   ]
  },
  {
   "cell_type": "code",
   "execution_count": 29,
   "metadata": {},
   "outputs": [],
   "source": [
    "from sklearn.pipeline import Pipeline\n",
    "from sklearn.preprocessing import StandardScaler\n",
    "from sklearn.impute import KNNImputer,SimpleImputer\n",
    "from sklearn.preprocessing import OneHotEncoder\n",
    "from sklearn.compose import ColumnTransformer"
   ]
  },
  {
   "cell_type": "code",
   "execution_count": 30,
   "metadata": {},
   "outputs": [],
   "source": [
    "def dummy(data,cat_attrib):\n",
    "    for attr in cat_attrib:\n",
    "        data = data.merge(get_dummies(data[attr], prefix=attr), left_index=True, right_index=True)\n",
    "        data.drop(attr,axis=1,inplace=True)\n",
    "    return data\n"
   ]
  },
  {
   "cell_type": "code",
   "execution_count": 31,
   "metadata": {},
   "outputs": [],
   "source": [
    "\n",
    "imputer = KNNImputer(n_neighbors=5\n",
    "                     , weights=\"uniform\")"
   ]
  },
  {
   "cell_type": "code",
   "execution_count": 32,
   "metadata": {},
   "outputs": [],
   "source": [
    "\n",
    "def prepare_data(train_data):\n",
    "    \n",
    "    train_data = train_data.drop(columns = [\"Loan_ID\"],axis = 1)\n",
    "    \n",
    "    train_data[\"Credit_History\"] = train_data[\"Credit_History\"].replace((1,0) ,('1','0'))\n",
    "     \n",
    "   \n",
    "    \n",
    "\n",
    "    cat_attrib = [colname for colname in train_data.columns if train_data[colname].dtype == 'object']\n",
    "    num_attrib = [colname for colname in train_data.columns if train_data[colname].dtype != 'object']\n",
    "\n",
    "    data_num = train_data.drop(columns = cat_attrib,axis = 1)\n",
    "    data_cat = train_data.drop(columns = num_attrib , axis = 1)\n",
    "\n",
    "    data_num_imputed = imputer.fit_transform(data_num)  # \n",
    "    data_num_std = DataFrame(StandardScaler().fit_transform(data_num_imputed) , columns = num_attrib)\n",
    "\n",
    "\n",
    "    data_cat_imputed = DataFrame(SimpleImputer(strategy = 'most_frequent').fit_transform(data_cat),columns = cat_attrib)\n",
    "    data_cat_dummy = dummy(data_cat_imputed , cat_attrib)\n",
    "\n",
    "    \n",
    "\n",
    "    data_prepared = concat([data_num_std,data_cat_dummy],axis = 1)\n",
    "\n",
    "    return data_prepared  \n"
   ]
  },
  {
   "cell_type": "code",
   "execution_count": 33,
   "metadata": {},
   "outputs": [
    {
     "name": "stdout",
     "output_type": "stream",
     "text": [
      "<class 'pandas.core.frame.DataFrame'>\n",
      "RangeIndex: 614 entries, 0 to 613\n",
      "Data columns (total 22 columns):\n",
      " #   Column                   Non-Null Count  Dtype  \n",
      "---  ------                   --------------  -----  \n",
      " 0   ApplicantIncome          614 non-null    float64\n",
      " 1   CoapplicantIncome        614 non-null    float64\n",
      " 2   LoanAmount               614 non-null    float64\n",
      " 3   Loan_Amount_Term         614 non-null    float64\n",
      " 4   Gender_Female            614 non-null    uint8  \n",
      " 5   Gender_Male              614 non-null    uint8  \n",
      " 6   Married_No               614 non-null    uint8  \n",
      " 7   Married_Yes              614 non-null    uint8  \n",
      " 8   Dependents_0             614 non-null    uint8  \n",
      " 9   Dependents_1             614 non-null    uint8  \n",
      " 10  Dependents_2             614 non-null    uint8  \n",
      " 11  Dependents_3+            614 non-null    uint8  \n",
      " 12  Education_Graduate       614 non-null    uint8  \n",
      " 13  Education_Not Graduate   614 non-null    uint8  \n",
      " 14  Self_Employed_No         614 non-null    uint8  \n",
      " 15  Self_Employed_Yes        614 non-null    uint8  \n",
      " 16  Credit_History_0         614 non-null    uint8  \n",
      " 17  Credit_History_1         614 non-null    uint8  \n",
      " 18  Property_Area_Rural      614 non-null    uint8  \n",
      " 19  Property_Area_Semiurban  614 non-null    uint8  \n",
      " 20  Property_Area_Urban      614 non-null    uint8  \n",
      " 21  Loan_Status              614 non-null    int64  \n",
      "dtypes: float64(4), int64(1), uint8(17)\n",
      "memory usage: 34.3 KB\n"
     ]
    }
   ],
   "source": [
    "train_data = data.drop(columns = [\"Loan_Status\"],axis = 1)\n",
    "\n",
    "label = data[\"Loan_Status\"]\n",
    "dict = {'Y':1,'N':0} \n",
    "label = label.map(dict)\n",
    "\n",
    "data_prepared = concat([prepare_data(train_data),label],axis = 1)\n",
    "\n",
    "data_prepared.info()"
   ]
  },
  {
   "cell_type": "code",
   "execution_count": null,
   "metadata": {},
   "outputs": [],
   "source": []
  },
  {
   "cell_type": "code",
   "execution_count": 34,
   "metadata": {},
   "outputs": [
    {
     "data": {
      "text/html": [
       "<style type=\"text/css\">\n",
       "table.dataframe td, table.dataframe th {\n",
       "    border: 1px  black solid !important;\n",
       "  color: black !important;\n",
       "}\n",
       "#</style>\n"
      ],
      "text/plain": [
       "<IPython.core.display.HTML object>"
      ]
     },
     "metadata": {},
     "output_type": "display_data"
    }
   ],
   "source": [
    "\n",
    "%%HTML\n",
    "<style type=\"text/css\">\n",
    "table.dataframe td, table.dataframe th {\n",
    "    border: 1px  black solid !important;\n",
    "  color: black !important;\n",
    "}\n",
    "#</style>"
   ]
  },
  {
   "cell_type": "markdown",
   "metadata": {},
   "source": [
    "## Train - Test spliting"
   ]
  },
  {
   "cell_type": "code",
   "execution_count": 35,
   "metadata": {},
   "outputs": [
    {
     "name": "stdout",
     "output_type": "stream",
     "text": [
      "1    0.691057\n",
      "0    0.308943\n",
      "Name: Loan_Status, dtype: float64\n",
      "1    0.686354\n",
      "0    0.313646\n",
      "Name: Loan_Status, dtype: float64\n"
     ]
    }
   ],
   "source": [
    "from sklearn.model_selection import StratifiedShuffleSplit\n",
    "\n",
    "split = StratifiedShuffleSplit(1,test_size = 0.2,random_state = 42)\n",
    "\n",
    "data_for_split = data_prepared\n",
    "\n",
    "for train_index,test_index in split.split(data_for_split,data_for_split[\"Loan_Status\"]):\n",
    "    strat_train_set = data_for_split.loc[train_index]\n",
    "    strat_test_set = data_for_split.loc[test_index]\n",
    "\n",
    "    \n",
    "\n",
    "\n",
    "print(strat_test_set[\"Loan_Status\"].value_counts() / len(strat_test_set)) \n",
    "print(strat_train_set[\"Loan_Status\"].value_counts() / len(strat_train_set))\n",
    "\n",
    "\n",
    "x_train = strat_train_set.drop(columns = [\"Loan_Status\"])\n",
    "y_train = strat_train_set[\"Loan_Status\"]\n",
    "x_test = strat_test_set.drop(columns = [\"Loan_Status\"])\n",
    "y_test = strat_test_set[\"Loan_Status\"]"
   ]
  },
  {
   "cell_type": "markdown",
   "metadata": {},
   "source": [
    "## Feature selection"
   ]
  },
  {
   "cell_type": "code",
   "execution_count": 36,
   "metadata": {},
   "outputs": [],
   "source": [
    "\n",
    "from sklearn.ensemble import ExtraTreesClassifier,RandomForestClassifier\n",
    "\n",
    "colname = x_train.columns\n",
    "\n",
    "xtree = ExtraTreesClassifier()\n",
    "\n",
    "\n",
    "rfc = RandomForestClassifier(n_estimators=500, n_jobs=-1)\n",
    "\n",
    "\n",
    "def selectkbest(clf , x_train , y_train,k):\n",
    "    clf.fit(x_train,y_train)\n",
    "    feature_score = clf.feature_importances_\n",
    "    feature_dict = {'Features':x_train.columns,'Importance':feature_score}\n",
    "    feature_df = DataFrame(feature_dict)\n",
    "    \n",
    "    sorted_feature_df = feature_df.sort_values('Importance',ascending = False)\n",
    "    return feature_df,sorted_feature_df.iloc[:k,:]"
   ]
  },
  {
   "cell_type": "code",
   "execution_count": null,
   "metadata": {},
   "outputs": [],
   "source": []
  },
  {
   "cell_type": "code",
   "execution_count": 37,
   "metadata": {},
   "outputs": [
    {
     "data": {
      "text/plain": [
       "['LoanAmount',\n",
       " 'ApplicantIncome',\n",
       " 'Credit_History_1',\n",
       " 'Credit_History_0',\n",
       " 'CoapplicantIncome',\n",
       " 'Loan_Amount_Term',\n",
       " 'Property_Area_Semiurban',\n",
       " 'Dependents_0',\n",
       " 'Property_Area_Rural',\n",
       " 'Dependents_1',\n",
       " 'Property_Area_Urban',\n",
       " 'Education_Graduate',\n",
       " 'Education_Not Graduate',\n",
       " 'Married_Yes',\n",
       " 'Married_No']"
      ]
     },
     "execution_count": 37,
     "metadata": {},
     "output_type": "execute_result"
    }
   ],
   "source": [
    "feature_df , k_best_feature_df = selectkbest(RandomForestClassifier(n_estimators=500, n_jobs=-1) , x_train , y_train,15)\n",
    "\n",
    "k_best_features = [w for w in k_best_feature_df.Features]\n",
    "k_best_features"
   ]
  },
  {
   "cell_type": "code",
   "execution_count": 38,
   "metadata": {},
   "outputs": [],
   "source": [
    "x_train = x_train.loc[:,k_best_features]\n",
    "\n",
    "x_test = x_test.loc[:,k_best_features]"
   ]
  },
  {
   "cell_type": "code",
   "execution_count": 39,
   "metadata": {},
   "outputs": [],
   "source": [
    "from sklearn.metrics import confusion_matrix\n",
    "from sklearn.metrics import accuracy_score\n",
    "from sklearn.metrics import precision_score\n",
    "from sklearn.metrics import recall_score\n",
    "\n",
    "from sklearn.metrics import f1_score"
   ]
  },
  {
   "cell_type": "markdown",
   "metadata": {},
   "source": [
    "## Logistic Regression"
   ]
  },
  {
   "cell_type": "code",
   "execution_count": 40,
   "metadata": {},
   "outputs": [
    {
     "data": {
      "text/plain": [
       "LogisticRegression(C=1.0, class_weight=None, dual=False, fit_intercept=True,\n",
       "                   intercept_scaling=1, l1_ratio=None, max_iter=100,\n",
       "                   multi_class='auto', n_jobs=None, penalty='l2',\n",
       "                   random_state=None, solver='lbfgs', tol=0.0001, verbose=0,\n",
       "                   warm_start=False)"
      ]
     },
     "execution_count": 40,
     "metadata": {},
     "output_type": "execute_result"
    }
   ],
   "source": [
    "from sklearn.linear_model import LogisticRegression\n",
    "\n",
    "log_reg = LogisticRegression()\n",
    "log_reg.fit(x_train,y_train)"
   ]
  },
  {
   "cell_type": "markdown",
   "metadata": {},
   "source": [
    "## Decision Tree"
   ]
  },
  {
   "cell_type": "code",
   "execution_count": 41,
   "metadata": {},
   "outputs": [
    {
     "data": {
      "text/plain": [
       "DecisionTreeClassifier(ccp_alpha=0.0, class_weight=None, criterion='gini',\n",
       "                       max_depth=2, max_features=None, max_leaf_nodes=None,\n",
       "                       min_impurity_decrease=0.0, min_impurity_split=None,\n",
       "                       min_samples_leaf=1, min_samples_split=2,\n",
       "                       min_weight_fraction_leaf=0.0, presort='deprecated',\n",
       "                       random_state=None, splitter='best')"
      ]
     },
     "execution_count": 41,
     "metadata": {},
     "output_type": "execute_result"
    }
   ],
   "source": [
    "from sklearn.tree import DecisionTreeClassifier \n",
    "tree_clf = DecisionTreeClassifier(max_depth = 2)\n",
    "tree_clf.fit(x_train,y_train)\n",
    "\n"
   ]
  },
  {
   "cell_type": "markdown",
   "metadata": {},
   "source": [
    "## SVM "
   ]
  },
  {
   "cell_type": "code",
   "execution_count": 42,
   "metadata": {},
   "outputs": [
    {
     "data": {
      "text/plain": [
       "SVC(C=1.0, break_ties=False, cache_size=200, class_weight=None, coef0=0.0,\n",
       "    decision_function_shape='ovr', degree=3, gamma='scale', kernel='rbf',\n",
       "    max_iter=-1, probability=False, random_state=None, shrinking=True,\n",
       "    tol=0.001, verbose=False)"
      ]
     },
     "execution_count": 42,
     "metadata": {},
     "output_type": "execute_result"
    }
   ],
   "source": [
    "from sklearn.svm import SVC\n",
    "\n",
    "svclf = SVC()\n",
    "\n",
    "svclf.fit(x_train,y_train)\n"
   ]
  },
  {
   "cell_type": "markdown",
   "metadata": {},
   "source": [
    "## AdaBoost "
   ]
  },
  {
   "cell_type": "code",
   "execution_count": 43,
   "metadata": {},
   "outputs": [
    {
     "data": {
      "text/plain": [
       "AdaBoostClassifier(algorithm='SAMME.R',\n",
       "                   base_estimator=DecisionTreeClassifier(ccp_alpha=0.0,\n",
       "                                                         class_weight=None,\n",
       "                                                         criterion='gini',\n",
       "                                                         max_depth=2,\n",
       "                                                         max_features=None,\n",
       "                                                         max_leaf_nodes=None,\n",
       "                                                         min_impurity_decrease=0.0,\n",
       "                                                         min_impurity_split=None,\n",
       "                                                         min_samples_leaf=1,\n",
       "                                                         min_samples_split=2,\n",
       "                                                         min_weight_fraction_leaf=0.0,\n",
       "                                                         presort='deprecated',\n",
       "                                                         random_state=None,\n",
       "                                                         splitter='best'),\n",
       "                   learning_rate=0.005, n_estimators=100, random_state=None)"
      ]
     },
     "execution_count": 43,
     "metadata": {},
     "output_type": "execute_result"
    }
   ],
   "source": [
    "from sklearn.ensemble import AdaBoostClassifier\n",
    "from sklearn.tree import DecisionTreeClassifier\n",
    "\n",
    "\n",
    "ada_clf = AdaBoostClassifier(DecisionTreeClassifier(max_depth = 2),n_estimators = 100 , learning_rate = 0.005)\n",
    "\n",
    "ada_clf.fit(x_train,y_train)\n"
   ]
  },
  {
   "cell_type": "markdown",
   "metadata": {},
   "source": [
    "## Gridsearch"
   ]
  },
  {
   "cell_type": "code",
   "execution_count": 44,
   "metadata": {},
   "outputs": [
    {
     "data": {
      "text/plain": [
       "{'learning_rate': 0.005, 'n_estimators': 50}"
      ]
     },
     "execution_count": 44,
     "metadata": {},
     "output_type": "execute_result"
    }
   ],
   "source": [
    "from sklearn.model_selection import GridSearchCV\n",
    "\n",
    "param_grid = {'n_estimators' : [3,10,20,40,50,70,100], 'learning_rate' : [0.001,0.005,0.008,0.01,0.07, 0.1,0.5,0.8]}\n",
    "clf = AdaBoostClassifier(DecisionTreeClassifier(max_depth = 2))\n",
    "#clf.fit(x_train,y_train)\n",
    "\n",
    "grd_srch = GridSearchCV(clf , param_grid , scoring = 'accuracy',return_train_score = True)\n",
    "\n",
    "\n",
    "grd_srch.fit(x_train,y_train)\n",
    "\n",
    "grd_srch.best_params_"
   ]
  },
  {
   "cell_type": "markdown",
   "metadata": {},
   "source": [
    "## Accuracy of different classifiers on the test set"
   ]
  },
  {
   "cell_type": "code",
   "execution_count": 46,
   "metadata": {},
   "outputs": [
    {
     "data": {
      "text/html": [
       "<div>\n",
       "<style scoped>\n",
       "    .dataframe tbody tr th:only-of-type {\n",
       "        vertical-align: middle;\n",
       "    }\n",
       "\n",
       "    .dataframe tbody tr th {\n",
       "        vertical-align: top;\n",
       "    }\n",
       "\n",
       "    .dataframe thead th {\n",
       "        text-align: right;\n",
       "    }\n",
       "</style>\n",
       "<table border=\"1\" class=\"dataframe\">\n",
       "  <thead>\n",
       "    <tr style=\"text-align: right;\">\n",
       "      <th></th>\n",
       "      <th>Classifier</th>\n",
       "      <th>Accuracy</th>\n",
       "      <th>f1_score</th>\n",
       "      <th>precision</th>\n",
       "    </tr>\n",
       "  </thead>\n",
       "  <tbody>\n",
       "    <tr>\n",
       "      <th>0</th>\n",
       "      <td>Log Reg</td>\n",
       "      <td>86.18</td>\n",
       "      <td>81.47</td>\n",
       "      <td>84.00</td>\n",
       "    </tr>\n",
       "    <tr>\n",
       "      <th>1</th>\n",
       "      <td>D Tree</td>\n",
       "      <td>84.55</td>\n",
       "      <td>78.82</td>\n",
       "      <td>82.35</td>\n",
       "    </tr>\n",
       "    <tr>\n",
       "      <th>2</th>\n",
       "      <td>SVC</td>\n",
       "      <td>83.74</td>\n",
       "      <td>77.96</td>\n",
       "      <td>82.18</td>\n",
       "    </tr>\n",
       "    <tr>\n",
       "      <th>3</th>\n",
       "      <td>Adaboost</td>\n",
       "      <td>84.55</td>\n",
       "      <td>78.82</td>\n",
       "      <td>82.35</td>\n",
       "    </tr>\n",
       "    <tr>\n",
       "      <th>4</th>\n",
       "      <td>Grid Search</td>\n",
       "      <td>84.55</td>\n",
       "      <td>78.82</td>\n",
       "      <td>82.35</td>\n",
       "    </tr>\n",
       "  </tbody>\n",
       "</table>\n",
       "</div>"
      ],
      "text/plain": [
       "    Classifier  Accuracy  f1_score  precision\n",
       "0      Log Reg     86.18     81.47      84.00\n",
       "1       D Tree     84.55     78.82      82.35\n",
       "2          SVC     83.74     77.96      82.18\n",
       "3     Adaboost     84.55     78.82      82.35\n",
       "4  Grid Search     84.55     78.82      82.35"
      ]
     },
     "execution_count": 46,
     "metadata": {},
     "output_type": "execute_result"
    }
   ],
   "source": [
    "models = [(\"Log Reg\",log_reg),('D Tree',tree_clf),('SVC',svclf),(\"Adaboost\",ada_clf),('Grid Search',grd_srch)]\n",
    "\n",
    "name = []\n",
    "accuracy = []\n",
    "conf_mat = []\n",
    "f1_scr = []\n",
    "precision = []\n",
    "for name,model in models :\n",
    "    y_pred = model.predict(x_test)\n",
    "    accuracy.append(round(accuracy_score(y_test,y_pred),4)*100)\n",
    "    f1_scr.append(round(f1_score(y_test,y_pred, average=\"macro\"),4)*100)\n",
    "    precision.append(round(precision_score(y_test,y_pred),4)*100)\n",
    "    conf_mat.append(DataFrame(confusion_matrix(y_test,y_pred)).style.set_caption(name))\n",
    "    \n",
    "\n",
    "name = [name for name,model in models]\n",
    "dict = {\"Classifier\":name,\"Accuracy\":accuracy,\"f1_score\":f1_scr,'precision':precision}\n",
    "result_test = DataFrame(dict)\n",
    "result_test"
   ]
  },
  {
   "cell_type": "code",
   "execution_count": 48,
   "metadata": {},
   "outputs": [
    {
     "data": {
      "text/html": [
       "<style  type=\"text/css\" >\n",
       "</style><table id=\"T_10946422_f6bc_11ea_9130_04ea56283a01\" ><caption>Log Reg</caption><thead>    <tr>        <th class=\"blank level0\" ></th>        <th class=\"col_heading level0 col0\" >0</th>        <th class=\"col_heading level0 col1\" >1</th>    </tr></thead><tbody>\n",
       "                <tr>\n",
       "                        <th id=\"T_10946422_f6bc_11ea_9130_04ea56283a01level0_row0\" class=\"row_heading level0 row0\" >0</th>\n",
       "                        <td id=\"T_10946422_f6bc_11ea_9130_04ea56283a01row0_col0\" class=\"data row0 col0\" >22</td>\n",
       "                        <td id=\"T_10946422_f6bc_11ea_9130_04ea56283a01row0_col1\" class=\"data row0 col1\" >16</td>\n",
       "            </tr>\n",
       "            <tr>\n",
       "                        <th id=\"T_10946422_f6bc_11ea_9130_04ea56283a01level0_row1\" class=\"row_heading level0 row1\" >1</th>\n",
       "                        <td id=\"T_10946422_f6bc_11ea_9130_04ea56283a01row1_col0\" class=\"data row1 col0\" >1</td>\n",
       "                        <td id=\"T_10946422_f6bc_11ea_9130_04ea56283a01row1_col1\" class=\"data row1 col1\" >84</td>\n",
       "            </tr>\n",
       "    </tbody></table>"
      ],
      "text/plain": [
       "<pandas.io.formats.style.Styler at 0x1b0c5228c08>"
      ]
     },
     "metadata": {},
     "output_type": "display_data"
    },
    {
     "data": {
      "text/html": [
       "<style  type=\"text/css\" >\n",
       "</style><table id=\"T_10953ce2_f6bc_11ea_811a_04ea56283a01\" ><caption>D Tree</caption><thead>    <tr>        <th class=\"blank level0\" ></th>        <th class=\"col_heading level0 col0\" >0</th>        <th class=\"col_heading level0 col1\" >1</th>    </tr></thead><tbody>\n",
       "                <tr>\n",
       "                        <th id=\"T_10953ce2_f6bc_11ea_811a_04ea56283a01level0_row0\" class=\"row_heading level0 row0\" >0</th>\n",
       "                        <td id=\"T_10953ce2_f6bc_11ea_811a_04ea56283a01row0_col0\" class=\"data row0 col0\" >21</td>\n",
       "                        <td id=\"T_10953ce2_f6bc_11ea_811a_04ea56283a01row0_col1\" class=\"data row0 col1\" >17</td>\n",
       "            </tr>\n",
       "            <tr>\n",
       "                        <th id=\"T_10953ce2_f6bc_11ea_811a_04ea56283a01level0_row1\" class=\"row_heading level0 row1\" >1</th>\n",
       "                        <td id=\"T_10953ce2_f6bc_11ea_811a_04ea56283a01row1_col0\" class=\"data row1 col0\" >1</td>\n",
       "                        <td id=\"T_10953ce2_f6bc_11ea_811a_04ea56283a01row1_col1\" class=\"data row1 col1\" >84</td>\n",
       "            </tr>\n",
       "    </tbody></table>"
      ],
      "text/plain": [
       "<pandas.io.formats.style.Styler at 0x1b0c5224188>"
      ]
     },
     "metadata": {},
     "output_type": "display_data"
    },
    {
     "data": {
      "text/html": [
       "<style  type=\"text/css\" >\n",
       "</style><table id=\"T_10962964_f6bc_11ea_b6dd_04ea56283a01\" ><caption>SVC</caption><thead>    <tr>        <th class=\"blank level0\" ></th>        <th class=\"col_heading level0 col0\" >0</th>        <th class=\"col_heading level0 col1\" >1</th>    </tr></thead><tbody>\n",
       "                <tr>\n",
       "                        <th id=\"T_10962964_f6bc_11ea_b6dd_04ea56283a01level0_row0\" class=\"row_heading level0 row0\" >0</th>\n",
       "                        <td id=\"T_10962964_f6bc_11ea_b6dd_04ea56283a01row0_col0\" class=\"data row0 col0\" >20</td>\n",
       "                        <td id=\"T_10962964_f6bc_11ea_b6dd_04ea56283a01row0_col1\" class=\"data row0 col1\" >18</td>\n",
       "            </tr>\n",
       "            <tr>\n",
       "                        <th id=\"T_10962964_f6bc_11ea_b6dd_04ea56283a01level0_row1\" class=\"row_heading level0 row1\" >1</th>\n",
       "                        <td id=\"T_10962964_f6bc_11ea_b6dd_04ea56283a01row1_col0\" class=\"data row1 col0\" >1</td>\n",
       "                        <td id=\"T_10962964_f6bc_11ea_b6dd_04ea56283a01row1_col1\" class=\"data row1 col1\" >84</td>\n",
       "            </tr>\n",
       "    </tbody></table>"
      ],
      "text/plain": [
       "<pandas.io.formats.style.Styler at 0x1b0c5146348>"
      ]
     },
     "metadata": {},
     "output_type": "display_data"
    },
    {
     "data": {
      "text/html": [
       "<style  type=\"text/css\" >\n",
       "</style><table id=\"T_1096a822_f6bc_11ea_b9cc_04ea56283a01\" ><caption>Adaboost</caption><thead>    <tr>        <th class=\"blank level0\" ></th>        <th class=\"col_heading level0 col0\" >0</th>        <th class=\"col_heading level0 col1\" >1</th>    </tr></thead><tbody>\n",
       "                <tr>\n",
       "                        <th id=\"T_1096a822_f6bc_11ea_b9cc_04ea56283a01level0_row0\" class=\"row_heading level0 row0\" >0</th>\n",
       "                        <td id=\"T_1096a822_f6bc_11ea_b9cc_04ea56283a01row0_col0\" class=\"data row0 col0\" >20</td>\n",
       "                        <td id=\"T_1096a822_f6bc_11ea_b9cc_04ea56283a01row0_col1\" class=\"data row0 col1\" >18</td>\n",
       "            </tr>\n",
       "            <tr>\n",
       "                        <th id=\"T_1096a822_f6bc_11ea_b9cc_04ea56283a01level0_row1\" class=\"row_heading level0 row1\" >1</th>\n",
       "                        <td id=\"T_1096a822_f6bc_11ea_b9cc_04ea56283a01row1_col0\" class=\"data row1 col0\" >1</td>\n",
       "                        <td id=\"T_1096a822_f6bc_11ea_b9cc_04ea56283a01row1_col1\" class=\"data row1 col1\" >84</td>\n",
       "            </tr>\n",
       "    </tbody></table>"
      ],
      "text/plain": [
       "<pandas.io.formats.style.Styler at 0x1b0c5224548>"
      ]
     },
     "metadata": {},
     "output_type": "display_data"
    },
    {
     "data": {
      "text/html": [
       "<style  type=\"text/css\" >\n",
       "</style><table id=\"T_10976528_f6bc_11ea_a75e_04ea56283a01\" ><caption>XGB</caption><thead>    <tr>        <th class=\"blank level0\" ></th>        <th class=\"col_heading level0 col0\" >0</th>        <th class=\"col_heading level0 col1\" >1</th>    </tr></thead><tbody>\n",
       "                <tr>\n",
       "                        <th id=\"T_10976528_f6bc_11ea_a75e_04ea56283a01level0_row0\" class=\"row_heading level0 row0\" >0</th>\n",
       "                        <td id=\"T_10976528_f6bc_11ea_a75e_04ea56283a01row0_col0\" class=\"data row0 col0\" >21</td>\n",
       "                        <td id=\"T_10976528_f6bc_11ea_a75e_04ea56283a01row0_col1\" class=\"data row0 col1\" >17</td>\n",
       "            </tr>\n",
       "            <tr>\n",
       "                        <th id=\"T_10976528_f6bc_11ea_a75e_04ea56283a01level0_row1\" class=\"row_heading level0 row1\" >1</th>\n",
       "                        <td id=\"T_10976528_f6bc_11ea_a75e_04ea56283a01row1_col0\" class=\"data row1 col0\" >1</td>\n",
       "                        <td id=\"T_10976528_f6bc_11ea_a75e_04ea56283a01row1_col1\" class=\"data row1 col1\" >84</td>\n",
       "            </tr>\n",
       "    </tbody></table>"
      ],
      "text/plain": [
       "<pandas.io.formats.style.Styler at 0x1b0c5228c48>"
      ]
     },
     "metadata": {},
     "output_type": "display_data"
    },
    {
     "data": {
      "text/html": [
       "<style  type=\"text/css\" >\n",
       "</style><table id=\"T_1097ac00_f6bc_11ea_8164_04ea56283a01\" ><caption>Random Forest</caption><thead>    <tr>        <th class=\"blank level0\" ></th>        <th class=\"col_heading level0 col0\" >0</th>        <th class=\"col_heading level0 col1\" >1</th>    </tr></thead><tbody>\n",
       "                <tr>\n",
       "                        <th id=\"T_1097ac00_f6bc_11ea_8164_04ea56283a01level0_row0\" class=\"row_heading level0 row0\" >0</th>\n",
       "                        <td id=\"T_1097ac00_f6bc_11ea_8164_04ea56283a01row0_col0\" class=\"data row0 col0\" >23</td>\n",
       "                        <td id=\"T_1097ac00_f6bc_11ea_8164_04ea56283a01row0_col1\" class=\"data row0 col1\" >15</td>\n",
       "            </tr>\n",
       "            <tr>\n",
       "                        <th id=\"T_1097ac00_f6bc_11ea_8164_04ea56283a01level0_row1\" class=\"row_heading level0 row1\" >1</th>\n",
       "                        <td id=\"T_1097ac00_f6bc_11ea_8164_04ea56283a01row1_col0\" class=\"data row1 col0\" >6</td>\n",
       "                        <td id=\"T_1097ac00_f6bc_11ea_8164_04ea56283a01row1_col1\" class=\"data row1 col1\" >79</td>\n",
       "            </tr>\n",
       "    </tbody></table>"
      ],
      "text/plain": [
       "<pandas.io.formats.style.Styler at 0x1b0c4e42c88>"
      ]
     },
     "metadata": {},
     "output_type": "display_data"
    }
   ],
   "source": [
    "for confusion_mat in conf_mat :\n",
    "    display(confusion_mat)"
   ]
  },
  {
   "cell_type": "markdown",
   "metadata": {},
   "source": [
    "## Neural Network"
   ]
  },
  {
   "cell_type": "code",
   "execution_count": 48,
   "metadata": {},
   "outputs": [],
   "source": [
    "import tensorflow as tf\n",
    "from tensorflow import keras\n",
    "from tensorflow.keras import Sequential\n",
    "\n",
    "\n",
    "\n",
    "from tensorflow.keras.optimizers import Adam , RMSprop,SGD\n",
    "\n",
    "\n",
    "\n"
   ]
  },
  {
   "cell_type": "code",
   "execution_count": null,
   "metadata": {},
   "outputs": [],
   "source": [
    "model = keras.models.Sequential([keras.layers.Input(shape=x_train.shape[1:]),\n",
    "                                 keras.layers.BatchNormalization(),\n",
    "                                 keras.layers.Dense(52, activation=\"relu\"), \n",
    "                                 keras.layers.BatchNormalization(),\n",
    "                                 keras.layers.Dense(44, activation=\"relu\"),\n",
    "                                  \n",
    "                                 keras.layers.BatchNormalization(),                                \n",
    "                                 keras.layers.Dense(92, activation=\"relu\" ),\n",
    "                                 keras.layers.Dense(1, activation=\"sigmoid\") \n",
    "                                ])\n",
    "\n",
    "\n",
    "model.compile(loss = 'binary_crossentropy' , optimizer = RMSprop(lr = 0.05) ,metrics = [tf.keras.metrics.Precision()])\n",
    "\n",
    "history = model.fit(x_train,y_train,epochs = 20 , validation_split = 0.15)"
   ]
  },
  {
   "cell_type": "code",
   "execution_count": 51,
   "metadata": {},
   "outputs": [
    {
     "name": "stdout",
     "output_type": "stream",
     "text": [
      "0.8383838383838383\n"
     ]
    },
    {
     "data": {
      "text/plain": [
       "array([[22, 16],\n",
       "       [ 2, 83]], dtype=int64)"
      ]
     },
     "execution_count": 51,
     "metadata": {},
     "output_type": "execute_result"
    }
   ],
   "source": [
    "#model = tf.keras.models.load_model(checkpoint_filepath)\n",
    "y_pred_prob = model.predict(x_test)\n",
    "y_pred  = []\n",
    "\n",
    "for w in y_pred_prob:\n",
    "    if w > 0.5 :\n",
    "        y_pred.append(1)\n",
    "    else:\n",
    "        y_pred.append(0)\n",
    "#sum(y_pred) \n",
    "print(precision_score(y_test,y_pred))\n",
    "confusion_matrix(y_test,y_pred)\n",
    "#y_pred_prob"
   ]
  },
  {
   "cell_type": "code",
   "execution_count": 49,
   "metadata": {},
   "outputs": [],
   "source": [
    "from kerastuner.tuners import RandomSearch\n",
    "from tensorflow.keras import layers\n",
    "import kerastuner\n",
    "from kerastuner import HyperParameters\n",
    "from kerastuner.tuners import Hyperband"
   ]
  },
  {
   "cell_type": "code",
   "execution_count": 55,
   "metadata": {},
   "outputs": [],
   "source": [
    "def build_model(hp):\n",
    "    model = keras.Sequential()\n",
    "    model.add(layers.Input(shape=x_train.shape[1:]))\n",
    "    for i in range(hp.Int('num_layers', 1,3)):\n",
    "        model.add(layers.BatchNormalization()),\n",
    "        model.add(layers.Dense(units=hp.Int('units_' + str(i),\n",
    "                                            min_value = 20,\n",
    "                                            max_value= 50,\n",
    "                                            step= 8),\n",
    "                               activation='relu'))\n",
    "    model.add(layers.Dense(1, activation='sigmoid'))\n",
    "    model.compile(\n",
    "        optimizer=keras.optimizers.RMSprop(\n",
    "            hp.Choice('learning_rate',\n",
    "                      values=[0.007,0.05,0.08,0.01,6e-2,.1])),\n",
    "        loss='binary_crossentropy',\n",
    "        metrics=['accuracy'])\n",
    "    return model\n",
    "\n",
    "tuner = RandomSearch(\n",
    "    build_model,\n",
    "    objective= kerastuner.Objective(\"val_accuracy\",direction = 'max'),\n",
    "    max_trials=10,\n",
    "    executions_per_trial=1,\n",
    "    directory='loan_dir',project_name='Loan_prediction13'\n",
    "    )"
   ]
  },
  {
   "cell_type": "code",
   "execution_count": 56,
   "metadata": {},
   "outputs": [
    {
     "name": "stdout",
     "output_type": "stream",
     "text": [
      "Train on 417 samples, validate on 74 samples\n",
      "Epoch 1/30\n",
      "417/417 [==============================] - ETA: 14s - loss: 1.0527 - accuracy: 0.343 - 2s 4ms/sample - loss: 0.7994 - accuracy: 0.7074 - val_loss: 0.6013 - val_accuracy: 0.7568\n",
      "Epoch 2/30\n",
      "417/417 [==============================] - ETA: 0s - loss: 0.4606 - accuracy: 0.84 - ETA: 0s - loss: 0.5132 - accuracy: 0.79 - 0s 204us/sample - loss: 0.5142 - accuracy: 0.7890 - val_loss: 3.0877 - val_accuracy: 0.2838\n",
      "Epoch 3/30\n",
      "417/417 [==============================] - ETA: 0s - loss: 1.5907 - accuracy: 0.28 - 0s 415us/sample - loss: 0.5931 - accuracy: 0.7434 - val_loss: 0.6156 - val_accuracy: 0.8108\n",
      "Epoch 4/30\n",
      "417/417 [==============================] - ETA: 0s - loss: 0.6958 - accuracy: 0.81 - ETA: 0s - loss: 0.5191 - accuracy: 0.80 - 0s 289us/sample - loss: 0.5101 - accuracy: 0.7914 - val_loss: 0.6475 - val_accuracy: 0.7027\n",
      "Epoch 5/30\n",
      "417/417 [==============================] - ETA: 0s - loss: 0.7967 - accuracy: 0.75 - ETA: 0s - loss: 0.5420 - accuracy: 0.78 - 0s 266us/sample - loss: 0.5425 - accuracy: 0.7842 - val_loss: 0.5663 - val_accuracy: 0.7838\n",
      "Epoch 6/30\n",
      "417/417 [==============================] - ETA: 0s - loss: 0.7362 - accuracy: 0.71 - ETA: 0s - loss: 0.5399 - accuracy: 0.79 - 0s 269us/sample - loss: 0.5219 - accuracy: 0.7938 - val_loss: 2.4053 - val_accuracy: 0.2838\n",
      "Epoch 7/30\n",
      "417/417 [==============================] - ETA: 0s - loss: 1.4923 - accuracy: 0.31 - ETA: 0s - loss: 0.6514 - accuracy: 0.71 - 0s 292us/sample - loss: 0.5775 - accuracy: 0.7578 - val_loss: 0.6671 - val_accuracy: 0.6351\n",
      "Epoch 8/30\n",
      "417/417 [==============================] - ETA: 0s - loss: 0.5041 - accuracy: 0.71 - ETA: 0s - loss: 0.5005 - accuracy: 0.79 - 0s 288us/sample - loss: 0.5185 - accuracy: 0.7890 - val_loss: 0.5432 - val_accuracy: 0.7432\n",
      "Epoch 9/30\n",
      "417/417 [==============================] - ETA: 0s - loss: 0.6031 - accuracy: 0.65 - ETA: 0s - loss: 0.5280 - accuracy: 0.75 - 0s 274us/sample - loss: 0.5081 - accuracy: 0.7722 - val_loss: 0.5155 - val_accuracy: 0.7838\n",
      "Epoch 10/30\n",
      "417/417 [==============================] - ETA: 0s - loss: 0.2852 - accuracy: 0.90 - ETA: 0s - loss: 0.5412 - accuracy: 0.75 - 0s 271us/sample - loss: 0.5732 - accuracy: 0.7410 - val_loss: 0.9549 - val_accuracy: 0.6081\n",
      "Epoch 11/30\n",
      "417/417 [==============================] - ETA: 0s - loss: 0.4899 - accuracy: 0.81 - ETA: 0s - loss: 0.5086 - accuracy: 0.76 - 0s 269us/sample - loss: 0.5158 - accuracy: 0.7698 - val_loss: 0.5580 - val_accuracy: 0.7162\n",
      "Epoch 12/30\n",
      "417/417 [==============================] - ETA: 0s - loss: 0.7557 - accuracy: 0.75 - ETA: 0s - loss: 0.5603 - accuracy: 0.76 - 0s 260us/sample - loss: 0.5301 - accuracy: 0.7794 - val_loss: 0.5358 - val_accuracy: 0.7703\n",
      "Epoch 13/30\n",
      "417/417 [==============================] - ETA: 0s - loss: 0.5538 - accuracy: 0.71 - ETA: 0s - loss: 0.4928 - accuracy: 0.81 - 0s 275us/sample - loss: 0.5044 - accuracy: 0.8034 - val_loss: 0.7747 - val_accuracy: 0.5811\n",
      "Epoch 14/30\n",
      "417/417 [==============================] - ETA: 0s - loss: 0.6516 - accuracy: 0.62 - ETA: 0s - loss: 0.4755 - accuracy: 0.77 - 0s 249us/sample - loss: 0.4906 - accuracy: 0.7746 - val_loss: 0.5922 - val_accuracy: 0.7162\n",
      "Epoch 15/30\n",
      "417/417 [==============================] - ETA: 0s - loss: 0.4186 - accuracy: 0.87 - ETA: 0s - loss: 0.4726 - accuracy: 0.82 - 0s 206us/sample - loss: 0.4741 - accuracy: 0.8201 - val_loss: 2.4859 - val_accuracy: 0.3919\n",
      "Epoch 16/30\n",
      "417/417 [==============================] - ETA: 0s - loss: 1.3121 - accuracy: 0.56 - 0s 181us/sample - loss: 0.5593 - accuracy: 0.7722 - val_loss: 0.6017 - val_accuracy: 0.7432\n",
      "Epoch 17/30\n",
      "417/417 [==============================] - ETA: 0s - loss: 0.8339 - accuracy: 0.62 - 0s 190us/sample - loss: 0.4814 - accuracy: 0.8058 - val_loss: 0.5108 - val_accuracy: 0.7838\n",
      "Epoch 18/30\n",
      "417/417 [==============================] - ETA: 0s - loss: 0.5458 - accuracy: 0.75 - ETA: 0s - loss: 0.4616 - accuracy: 0.80 - 0s 253us/sample - loss: 0.4684 - accuracy: 0.8058 - val_loss: 0.6271 - val_accuracy: 0.7703\n",
      "Epoch 19/30\n",
      "417/417 [==============================] - ETA: 0s - loss: 0.6923 - accuracy: 0.62 - ETA: 0s - loss: 0.4854 - accuracy: 0.80 - 0s 273us/sample - loss: 0.5251 - accuracy: 0.7986 - val_loss: 1.0470 - val_accuracy: 0.6757\n",
      "Epoch 20/30\n",
      "417/417 [==============================] - ETA: 0s - loss: 0.5595 - accuracy: 0.75 - 0s 145us/sample - loss: 0.5117 - accuracy: 0.7914 - val_loss: 0.5731 - val_accuracy: 0.7838\n",
      "Epoch 21/30\n",
      "417/417 [==============================] - ETA: 0s - loss: 0.5130 - accuracy: 0.87 - ETA: 0s - loss: 0.4902 - accuracy: 0.79 - 0s 201us/sample - loss: 0.4911 - accuracy: 0.7962 - val_loss: 2.3638 - val_accuracy: 0.3919\n",
      "Epoch 22/30\n",
      "417/417 [==============================] - ETA: 0s - loss: 1.6224 - accuracy: 0.34 - ETA: 0s - loss: 0.5453 - accuracy: 0.77 - 0s 209us/sample - loss: 0.5466 - accuracy: 0.7746 - val_loss: 0.8978 - val_accuracy: 0.7973\n",
      "Epoch 23/30\n",
      "417/417 [==============================] - ETA: 0s - loss: 0.3644 - accuracy: 0.87 - 0s 168us/sample - loss: 0.5109 - accuracy: 0.7842 - val_loss: 0.5259 - val_accuracy: 0.7703\n",
      "Epoch 24/30\n",
      "417/417 [==============================] - ETA: 0s - loss: 0.5829 - accuracy: 0.75 - ETA: 0s - loss: 0.4791 - accuracy: 0.80 - 0s 221us/sample - loss: 0.4809 - accuracy: 0.7986 - val_loss: 0.7619 - val_accuracy: 0.6486\n",
      "Epoch 25/30\n",
      "417/417 [==============================] - ETA: 0s - loss: 0.5010 - accuracy: 0.81 - ETA: 0s - loss: 0.5141 - accuracy: 0.79 - 0s 215us/sample - loss: 0.5186 - accuracy: 0.7866 - val_loss: 0.7744 - val_accuracy: 0.7162\n",
      "Epoch 26/30\n",
      "417/417 [==============================] - ETA: 0s - loss: 0.5218 - accuracy: 0.75 - 0s 184us/sample - loss: 0.4768 - accuracy: 0.7962 - val_loss: 0.5628 - val_accuracy: 0.7432\n",
      "Epoch 27/30\n",
      "417/417 [==============================] - ETA: 0s - loss: 0.4438 - accuracy: 0.78 - ETA: 0s - loss: 0.4715 - accuracy: 0.80 - 0s 224us/sample - loss: 0.4715 - accuracy: 0.8058 - val_loss: 0.6622 - val_accuracy: 0.7568\n",
      "Epoch 28/30\n",
      "417/417 [==============================] - ETA: 0s - loss: 0.3667 - accuracy: 0.84 - ETA: 0s - loss: 0.4785 - accuracy: 0.78 - 0s 211us/sample - loss: 0.4781 - accuracy: 0.7842 - val_loss: 0.7018 - val_accuracy: 0.7838\n",
      "Epoch 29/30\n",
      "417/417 [==============================] - ETA: 0s - loss: 0.3107 - accuracy: 0.81 - 0s 164us/sample - loss: 0.5069 - accuracy: 0.7866 - val_loss: 0.5341 - val_accuracy: 0.7432\n",
      "Epoch 30/30\n",
      "417/417 [==============================] - ETA: 0s - loss: 0.6301 - accuracy: 0.68 - 0s 184us/sample - loss: 0.4504 - accuracy: 0.8082 - val_loss: 1.1540 - val_accuracy: 0.5135\n"
     ]
    },
    {
     "data": {
      "text/html": [
       "<span style=\"color:#4527A0\"><h1 style=\"font-size:18px\">Trial complete</h1></span>"
      ],
      "text/plain": [
       "<IPython.core.display.HTML object>"
      ]
     },
     "metadata": {},
     "output_type": "display_data"
    },
    {
     "data": {
      "text/html": [
       "<span style=\"color:#4527A0\"><h1 style=\"font-size:18px\">Trial summary</h1></span>"
      ],
      "text/plain": [
       "<IPython.core.display.HTML object>"
      ]
     },
     "metadata": {},
     "output_type": "display_data"
    },
    {
     "data": {
      "text/html": [
       "<span style=\"color:cyan\"> |-Trial ID: 2c518f0e3a2149d5eaa102a8538be10a</span>"
      ],
      "text/plain": [
       "<IPython.core.display.HTML object>"
      ]
     },
     "metadata": {},
     "output_type": "display_data"
    },
    {
     "data": {
      "text/html": [
       "<span style=\"color:cyan\"> |-Score: 0.8108108043670654</span>"
      ],
      "text/plain": [
       "<IPython.core.display.HTML object>"
      ]
     },
     "metadata": {},
     "output_type": "display_data"
    },
    {
     "data": {
      "text/html": [
       "<span style=\"color:cyan\"> |-Best step: 0</span>"
      ],
      "text/plain": [
       "<IPython.core.display.HTML object>"
      ]
     },
     "metadata": {},
     "output_type": "display_data"
    },
    {
     "data": {
      "text/html": [
       "<span style=\"color:#7E57C2\"><h2 style=\"font-size:16px\">Hyperparameters:</h2></span>"
      ],
      "text/plain": [
       "<IPython.core.display.HTML object>"
      ]
     },
     "metadata": {},
     "output_type": "display_data"
    },
    {
     "data": {
      "text/html": [
       "<span style=\"color:cyan\"> |-learning_rate: 0.08</span>"
      ],
      "text/plain": [
       "<IPython.core.display.HTML object>"
      ]
     },
     "metadata": {},
     "output_type": "display_data"
    },
    {
     "data": {
      "text/html": [
       "<span style=\"color:blue\"> |-num_layers: 2</span>"
      ],
      "text/plain": [
       "<IPython.core.display.HTML object>"
      ]
     },
     "metadata": {},
     "output_type": "display_data"
    },
    {
     "data": {
      "text/html": [
       "<span style=\"color:cyan\"> |-units_0: 28</span>"
      ],
      "text/plain": [
       "<IPython.core.display.HTML object>"
      ]
     },
     "metadata": {},
     "output_type": "display_data"
    },
    {
     "data": {
      "text/html": [
       "<span style=\"color:blue\"> |-units_1: 20</span>"
      ],
      "text/plain": [
       "<IPython.core.display.HTML object>"
      ]
     },
     "metadata": {},
     "output_type": "display_data"
    },
    {
     "name": "stdout",
     "output_type": "stream",
     "text": [
      "Train on 417 samples, validate on 74 samples\n",
      "Epoch 1/30\n",
      "417/417 [==============================] - ETA: 21s - loss: 0.8074 - accuracy: 0.531 - ETA: 0s - loss: 1.2158 - accuracy: 0.722 - 2s 5ms/sample - loss: 1.0120 - accuracy: 0.7242 - val_loss: 0.6809 - val_accuracy: 0.6757\n",
      "Epoch 2/30\n",
      "417/417 [==============================] - ETA: 0s - loss: 0.6257 - accuracy: 0.65 - ETA: 0s - loss: 0.5427 - accuracy: 0.76 - 0s 434us/sample - loss: 0.5301 - accuracy: 0.7770 - val_loss: 0.6594 - val_accuracy: 0.7703\n",
      "Epoch 3/30\n",
      "417/417 [==============================] - ETA: 0s - loss: 0.6007 - accuracy: 0.81 - ETA: 0s - loss: 0.5714 - accuracy: 0.78 - 0s 383us/sample - loss: 0.5604 - accuracy: 0.7890 - val_loss: 0.5518 - val_accuracy: 0.8108\n",
      "Epoch 4/30\n",
      "417/417 [==============================] - ETA: 0s - loss: 0.6226 - accuracy: 0.75 - 0s 199us/sample - loss: 0.5757 - accuracy: 0.7650 - val_loss: 0.9266 - val_accuracy: 0.7162\n",
      "Epoch 5/30\n",
      "417/417 [==============================] - ETA: 0s - loss: 1.0089 - accuracy: 0.71 - ETA: 0s - loss: 0.5814 - accuracy: 0.76 - 0s 215us/sample - loss: 0.5809 - accuracy: 0.7626 - val_loss: 0.5589 - val_accuracy: 0.8108\n",
      "Epoch 6/30\n",
      "417/417 [==============================] - ETA: 0s - loss: 0.4286 - accuracy: 0.81 - ETA: 0s - loss: 0.5189 - accuracy: 0.78 - 0s 225us/sample - loss: 0.5259 - accuracy: 0.7866 - val_loss: 0.6847 - val_accuracy: 0.7838\n",
      "Epoch 7/30\n",
      "417/417 [==============================] - ETA: 0s - loss: 0.7607 - accuracy: 0.75 - ETA: 0s - loss: 0.5450 - accuracy: 0.78 - 0s 241us/sample - loss: 0.5460 - accuracy: 0.7842 - val_loss: 0.6933 - val_accuracy: 0.7703\n",
      "Epoch 8/30\n",
      "417/417 [==============================] - ETA: 0s - loss: 0.5730 - accuracy: 0.75 - ETA: 0s - loss: 0.4883 - accuracy: 0.78 - 0s 311us/sample - loss: 0.5370 - accuracy: 0.7818 - val_loss: 0.5367 - val_accuracy: 0.7703\n",
      "Epoch 9/30\n",
      "417/417 [==============================] - ETA: 0s - loss: 0.6598 - accuracy: 0.68 - ETA: 0s - loss: 0.4421 - accuracy: 0.82 - ETA: 0s - loss: 0.6034 - accuracy: 0.79 - 0s 370us/sample - loss: 0.6050 - accuracy: 0.7962 - val_loss: 0.5680 - val_accuracy: 0.7838\n",
      "Epoch 10/30\n",
      "417/417 [==============================] - ETA: 0s - loss: 0.4568 - accuracy: 0.90 - ETA: 0s - loss: 0.4791 - accuracy: 0.81 - 0s 316us/sample - loss: 0.5312 - accuracy: 0.7746 - val_loss: 5.2416 - val_accuracy: 0.7703\n",
      "Epoch 11/30\n",
      "417/417 [==============================] - ETA: 0s - loss: 2.5214 - accuracy: 0.75 - ETA: 0s - loss: 0.8535 - accuracy: 0.75 - 0s 288us/sample - loss: 0.7276 - accuracy: 0.7818 - val_loss: 0.6171 - val_accuracy: 0.7973\n",
      "Epoch 12/30\n",
      "417/417 [==============================] - ETA: 0s - loss: 0.5376 - accuracy: 0.75 - ETA: 0s - loss: 0.5187 - accuracy: 0.78 - 0s 318us/sample - loss: 0.5186 - accuracy: 0.7722 - val_loss: 1.2726 - val_accuracy: 0.7568\n",
      "Epoch 13/30\n",
      "417/417 [==============================] - ETA: 0s - loss: 0.4965 - accuracy: 0.78 - ETA: 0s - loss: 0.4994 - accuracy: 0.79 - 0s 316us/sample - loss: 0.5262 - accuracy: 0.7914 - val_loss: 0.6081 - val_accuracy: 0.8108\n",
      "Epoch 14/30\n",
      "417/417 [==============================] - ETA: 0s - loss: 0.5526 - accuracy: 0.71 - ETA: 0s - loss: 0.4666 - accuracy: 0.80 - 0s 232us/sample - loss: 0.4792 - accuracy: 0.7986 - val_loss: 0.8083 - val_accuracy: 0.8108\n",
      "Epoch 15/30\n",
      "417/417 [==============================] - ETA: 0s - loss: 0.4374 - accuracy: 0.87 - ETA: 0s - loss: 0.4808 - accuracy: 0.82 - 0s 253us/sample - loss: 0.5485 - accuracy: 0.7914 - val_loss: 0.6131 - val_accuracy: 0.8108\n",
      "Epoch 16/30\n",
      "417/417 [==============================] - ETA: 0s - loss: 0.4036 - accuracy: 0.87 - ETA: 0s - loss: 0.5317 - accuracy: 0.78 - 0s 251us/sample - loss: 0.5101 - accuracy: 0.7986 - val_loss: 0.5403 - val_accuracy: 0.8108\n",
      "Epoch 17/30\n",
      "417/417 [==============================] - ETA: 0s - loss: 0.5636 - accuracy: 0.68 - ETA: 0s - loss: 0.5135 - accuracy: 0.78 - 0s 254us/sample - loss: 0.5101 - accuracy: 0.7842 - val_loss: 0.5797 - val_accuracy: 0.8108\n",
      "Epoch 18/30\n",
      "417/417 [==============================] - ETA: 0s - loss: 0.4126 - accuracy: 0.84 - ETA: 0s - loss: 0.6040 - accuracy: 0.78 - 0s 229us/sample - loss: 0.6061 - accuracy: 0.7842 - val_loss: 0.6316 - val_accuracy: 0.7973\n",
      "Epoch 19/30\n",
      "417/417 [==============================] - ETA: 0s - loss: 0.3727 - accuracy: 0.90 - ETA: 0s - loss: 0.4998 - accuracy: 0.79 - 0s 236us/sample - loss: 0.5157 - accuracy: 0.7986 - val_loss: 0.4907 - val_accuracy: 0.8108\n",
      "Epoch 20/30\n",
      "417/417 [==============================] - ETA: 0s - loss: 0.5112 - accuracy: 0.78 - ETA: 0s - loss: 0.4949 - accuracy: 0.79 - 0s 253us/sample - loss: 0.5102 - accuracy: 0.7914 - val_loss: 0.5157 - val_accuracy: 0.7973\n",
      "Epoch 21/30\n",
      "417/417 [==============================] - ETA: 0s - loss: 0.5962 - accuracy: 0.65 - ETA: 0s - loss: 0.5424 - accuracy: 0.77 - 0s 239us/sample - loss: 0.5499 - accuracy: 0.7674 - val_loss: 0.5032 - val_accuracy: 0.7973\n",
      "Epoch 22/30\n",
      "417/417 [==============================] - ETA: 0s - loss: 0.5581 - accuracy: 0.75 - ETA: 0s - loss: 0.5488 - accuracy: 0.80 - 0s 255us/sample - loss: 0.5838 - accuracy: 0.7794 - val_loss: 0.5365 - val_accuracy: 0.8108\n",
      "Epoch 23/30\n",
      "417/417 [==============================] - ETA: 0s - loss: 0.4956 - accuracy: 0.81 - ETA: 0s - loss: 0.5240 - accuracy: 0.79 - 0s 259us/sample - loss: 0.5376 - accuracy: 0.7938 - val_loss: 0.5124 - val_accuracy: 0.8108\n",
      "Epoch 24/30\n",
      "417/417 [==============================] - ETA: 0s - loss: 0.3572 - accuracy: 0.90 - ETA: 0s - loss: 0.5049 - accuracy: 0.79 - 0s 241us/sample - loss: 0.5044 - accuracy: 0.7938 - val_loss: 0.5092 - val_accuracy: 0.8108\n",
      "Epoch 25/30\n",
      "417/417 [==============================] - ETA: 0s - loss: 0.6005 - accuracy: 0.65 - ETA: 0s - loss: 0.5216 - accuracy: 0.76 - 0s 284us/sample - loss: 0.5084 - accuracy: 0.7914 - val_loss: 0.7754 - val_accuracy: 0.8108\n",
      "Epoch 26/30\n",
      "417/417 [==============================] - ETA: 0s - loss: 0.6136 - accuracy: 0.62 - ETA: 0s - loss: 0.5647 - accuracy: 0.76 - 0s 297us/sample - loss: 0.5343 - accuracy: 0.7770 - val_loss: 0.5673 - val_accuracy: 0.8108\n",
      "Epoch 27/30\n",
      "417/417 [==============================] - ETA: 0s - loss: 0.4356 - accuracy: 0.81 - ETA: 0s - loss: 0.5219 - accuracy: 0.78 - 0s 271us/sample - loss: 0.5735 - accuracy: 0.7938 - val_loss: 1.9190 - val_accuracy: 0.3243\n",
      "Epoch 28/30\n",
      "417/417 [==============================] - ETA: 0s - loss: 1.9268 - accuracy: 0.37 - ETA: 0s - loss: 0.7219 - accuracy: 0.73 - 0s 290us/sample - loss: 0.6633 - accuracy: 0.7554 - val_loss: 0.6661 - val_accuracy: 0.7838\n",
      "Epoch 29/30\n",
      "417/417 [==============================] - ETA: 0s - loss: 0.5888 - accuracy: 0.71 - ETA: 0s - loss: 0.4854 - accuracy: 0.80 - 0s 300us/sample - loss: 0.4937 - accuracy: 0.8010 - val_loss: 0.4911 - val_accuracy: 0.8108\n",
      "Epoch 30/30\n",
      "417/417 [==============================] - ETA: 0s - loss: 0.4779 - accuracy: 0.81 - ETA: 0s - loss: 0.5131 - accuracy: 0.79 - 0s 279us/sample - loss: 0.5053 - accuracy: 0.7986 - val_loss: 0.7073 - val_accuracy: 0.7838\n"
     ]
    },
    {
     "data": {
      "text/html": [
       "<span style=\"color:#4527A0\"><h1 style=\"font-size:18px\">Trial complete</h1></span>"
      ],
      "text/plain": [
       "<IPython.core.display.HTML object>"
      ]
     },
     "metadata": {},
     "output_type": "display_data"
    },
    {
     "data": {
      "text/html": [
       "<span style=\"color:#4527A0\"><h1 style=\"font-size:18px\">Trial summary</h1></span>"
      ],
      "text/plain": [
       "<IPython.core.display.HTML object>"
      ]
     },
     "metadata": {},
     "output_type": "display_data"
    },
    {
     "data": {
      "text/html": [
       "<span style=\"color:cyan\"> |-Trial ID: fd9cbabe61d510f5886c253e92c0d54c</span>"
      ],
      "text/plain": [
       "<IPython.core.display.HTML object>"
      ]
     },
     "metadata": {},
     "output_type": "display_data"
    },
    {
     "data": {
      "text/html": [
       "<span style=\"color:cyan\"> |-Score: 0.8108108043670654</span>"
      ],
      "text/plain": [
       "<IPython.core.display.HTML object>"
      ]
     },
     "metadata": {},
     "output_type": "display_data"
    },
    {
     "data": {
      "text/html": [
       "<span style=\"color:cyan\"> |-Best step: 0</span>"
      ],
      "text/plain": [
       "<IPython.core.display.HTML object>"
      ]
     },
     "metadata": {},
     "output_type": "display_data"
    },
    {
     "data": {
      "text/html": [
       "<span style=\"color:#7E57C2\"><h2 style=\"font-size:16px\">Hyperparameters:</h2></span>"
      ],
      "text/plain": [
       "<IPython.core.display.HTML object>"
      ]
     },
     "metadata": {},
     "output_type": "display_data"
    },
    {
     "data": {
      "text/html": [
       "<span style=\"color:cyan\"> |-learning_rate: 0.1</span>"
      ],
      "text/plain": [
       "<IPython.core.display.HTML object>"
      ]
     },
     "metadata": {},
     "output_type": "display_data"
    },
    {
     "data": {
      "text/html": [
       "<span style=\"color:blue\"> |-num_layers: 3</span>"
      ],
      "text/plain": [
       "<IPython.core.display.HTML object>"
      ]
     },
     "metadata": {},
     "output_type": "display_data"
    },
    {
     "data": {
      "text/html": [
       "<span style=\"color:cyan\"> |-units_0: 28</span>"
      ],
      "text/plain": [
       "<IPython.core.display.HTML object>"
      ]
     },
     "metadata": {},
     "output_type": "display_data"
    },
    {
     "data": {
      "text/html": [
       "<span style=\"color:blue\"> |-units_1: 36</span>"
      ],
      "text/plain": [
       "<IPython.core.display.HTML object>"
      ]
     },
     "metadata": {},
     "output_type": "display_data"
    },
    {
     "data": {
      "text/html": [
       "<span style=\"color:cyan\"> |-units_2: 20</span>"
      ],
      "text/plain": [
       "<IPython.core.display.HTML object>"
      ]
     },
     "metadata": {},
     "output_type": "display_data"
    },
    {
     "name": "stdout",
     "output_type": "stream",
     "text": [
      "Train on 417 samples, validate on 74 samples\n",
      "Epoch 1/30\n",
      "417/417 [==============================] - ETA: 21s - loss: 0.6139 - accuracy: 0.656 - ETA: 0s - loss: 1.8233 - accuracy: 0.687 - 2s 5ms/sample - loss: 1.6343 - accuracy: 0.6978 - val_loss: 3.8003 - val_accuracy: 0.3108\n",
      "Epoch 2/30\n",
      "417/417 [==============================] - ETA: 0s - loss: 0.5452 - accuracy: 0.81 - ETA: 0s - loss: 0.5270 - accuracy: 0.76 - 0s 340us/sample - loss: 0.5348 - accuracy: 0.7626 - val_loss: 0.7249 - val_accuracy: 0.7297\n",
      "Epoch 3/30\n",
      "417/417 [==============================] - ETA: 0s - loss: 0.7260 - accuracy: 0.59 - ETA: 0s - loss: 0.5604 - accuracy: 0.74 - 0s 237us/sample - loss: 0.5304 - accuracy: 0.7674 - val_loss: 1.2304 - val_accuracy: 0.6486\n",
      "Epoch 4/30\n",
      "417/417 [==============================] - ETA: 0s - loss: 0.3481 - accuracy: 0.87 - ETA: 0s - loss: 0.5733 - accuracy: 0.78 - 0s 353us/sample - loss: 0.5729 - accuracy: 0.7866 - val_loss: 0.4922 - val_accuracy: 0.8108\n",
      "Epoch 5/30\n",
      "417/417 [==============================] - ETA: 0s - loss: 0.5535 - accuracy: 0.71 - ETA: 0s - loss: 0.5384 - accuracy: 0.77 - 0s 227us/sample - loss: 0.5378 - accuracy: 0.7770 - val_loss: 0.5856 - val_accuracy: 0.7973\n",
      "Epoch 6/30\n",
      "417/417 [==============================] - ETA: 0s - loss: 0.5570 - accuracy: 0.81 - ETA: 0s - loss: 0.5209 - accuracy: 0.78 - 0s 217us/sample - loss: 0.5204 - accuracy: 0.7818 - val_loss: 0.5627 - val_accuracy: 0.8108\n",
      "Epoch 7/30\n",
      "417/417 [==============================] - ETA: 0s - loss: 0.4188 - accuracy: 0.87 - ETA: 0s - loss: 0.5625 - accuracy: 0.78 - 0s 232us/sample - loss: 0.5647 - accuracy: 0.7818 - val_loss: 0.4830 - val_accuracy: 0.8108\n",
      "Epoch 8/30\n",
      "417/417 [==============================] - ETA: 0s - loss: 0.4087 - accuracy: 0.90 - 0s 195us/sample - loss: 0.5308 - accuracy: 0.7914 - val_loss: 1.0690 - val_accuracy: 0.6351\n",
      "Epoch 9/30\n",
      "417/417 [==============================] - ETA: 0s - loss: 0.7122 - accuracy: 0.68 - ETA: 0s - loss: 0.6012 - accuracy: 0.78 - 0s 313us/sample - loss: 0.6063 - accuracy: 0.7698 - val_loss: 0.6182 - val_accuracy: 0.6622\n",
      "Epoch 10/30\n",
      "417/417 [==============================] - ETA: 0s - loss: 0.4822 - accuracy: 0.78 - ETA: 0s - loss: 0.5135 - accuracy: 0.77 - 0s 305us/sample - loss: 0.5116 - accuracy: 0.7842 - val_loss: 0.6102 - val_accuracy: 0.7838\n",
      "Epoch 11/30\n",
      "417/417 [==============================] - ETA: 0s - loss: 0.4603 - accuracy: 0.81 - ETA: 0s - loss: 0.6444 - accuracy: 0.73 - 0s 300us/sample - loss: 0.5973 - accuracy: 0.7626 - val_loss: 0.5413 - val_accuracy: 0.7973\n",
      "Epoch 12/30\n",
      "417/417 [==============================] - ETA: 0s - loss: 0.4671 - accuracy: 0.81 - ETA: 0s - loss: 0.5371 - accuracy: 0.78 - 0s 317us/sample - loss: 0.5217 - accuracy: 0.7794 - val_loss: 0.5357 - val_accuracy: 0.8108\n",
      "Epoch 13/30\n",
      "417/417 [==============================] - ETA: 0s - loss: 0.6061 - accuracy: 0.71 - ETA: 0s - loss: 0.5171 - accuracy: 0.78 - 0s 322us/sample - loss: 0.5089 - accuracy: 0.7938 - val_loss: 0.4937 - val_accuracy: 0.8108\n",
      "Epoch 14/30\n",
      "417/417 [==============================] - ETA: 0s - loss: 0.4444 - accuracy: 0.84 - ETA: 0s - loss: 0.6053 - accuracy: 0.76 - 0s 354us/sample - loss: 0.5831 - accuracy: 0.7746 - val_loss: 3.0372 - val_accuracy: 0.2838\n",
      "Epoch 15/30\n",
      "417/417 [==============================] - ETA: 0s - loss: 1.3748 - accuracy: 0.34 - ETA: 0s - loss: 0.6538 - accuracy: 0.70 - ETA: 0s - loss: 0.5807 - accuracy: 0.74 - 0s 397us/sample - loss: 0.5802 - accuracy: 0.7458 - val_loss: 0.5108 - val_accuracy: 0.7838\n",
      "Epoch 16/30\n",
      "417/417 [==============================] - ETA: 0s - loss: 0.6637 - accuracy: 0.68 - ETA: 0s - loss: 0.5162 - accuracy: 0.77 - 0s 283us/sample - loss: 0.5010 - accuracy: 0.7962 - val_loss: 0.4928 - val_accuracy: 0.7973\n",
      "Epoch 17/30\n",
      "417/417 [==============================] - ETA: 0s - loss: 0.4626 - accuracy: 0.84 - 0s 179us/sample - loss: 0.5073 - accuracy: 0.7914 - val_loss: 0.5701 - val_accuracy: 0.7432\n",
      "Epoch 18/30\n",
      "417/417 [==============================] - ETA: 0s - loss: 0.6759 - accuracy: 0.65 - ETA: 0s - loss: 0.5449 - accuracy: 0.76 - 0s 340us/sample - loss: 0.6384 - accuracy: 0.7698 - val_loss: 0.6904 - val_accuracy: 0.7568\n",
      "Epoch 19/30\n",
      "417/417 [==============================] - ETA: 0s - loss: 0.5745 - accuracy: 0.75 - ETA: 0s - loss: 0.5212 - accuracy: 0.79 - 0s 342us/sample - loss: 0.5076 - accuracy: 0.7986 - val_loss: 0.7649 - val_accuracy: 0.7568\n",
      "Epoch 20/30\n",
      "417/417 [==============================] - ETA: 0s - loss: 0.5476 - accuracy: 0.78 - ETA: 0s - loss: 0.5310 - accuracy: 0.79 - ETA: 0s - loss: 0.5258 - accuracy: 0.78 - 0s 396us/sample - loss: 0.5254 - accuracy: 0.7890 - val_loss: 0.7732 - val_accuracy: 0.7703\n",
      "Epoch 21/30\n",
      "417/417 [==============================] - ETA: 0s - loss: 0.3178 - accuracy: 0.90 - ETA: 0s - loss: 0.5315 - accuracy: 0.78 - 0s 339us/sample - loss: 0.6043 - accuracy: 0.7794 - val_loss: 0.8787 - val_accuracy: 0.8108\n",
      "Epoch 22/30\n",
      "417/417 [==============================] - ETA: 0s - loss: 0.4171 - accuracy: 0.84 - ETA: 0s - loss: 0.5320 - accuracy: 0.80 - 0s 345us/sample - loss: 0.5267 - accuracy: 0.7866 - val_loss: 2.3032 - val_accuracy: 0.8108\n",
      "Epoch 23/30\n",
      "417/417 [==============================] - ETA: 0s - loss: 3.3225 - accuracy: 0.65 - ETA: 0s - loss: 0.8480 - accuracy: 0.76 - 0s 333us/sample - loss: 0.7322 - accuracy: 0.7770 - val_loss: 0.5274 - val_accuracy: 0.8108\n",
      "Epoch 24/30\n",
      "417/417 [==============================] - ETA: 0s - loss: 0.3870 - accuracy: 0.87 - ETA: 0s - loss: 0.5522 - accuracy: 0.75 - ETA: 0s - loss: 0.5085 - accuracy: 0.78 - 0s 390us/sample - loss: 0.5078 - accuracy: 0.7890 - val_loss: 0.5160 - val_accuracy: 0.7973\n",
      "Epoch 25/30\n",
      "417/417 [==============================] - ETA: 0s - loss: 0.5671 - accuracy: 0.75 - ETA: 0s - loss: 0.4501 - accuracy: 0.81 - 0s 362us/sample - loss: 0.4805 - accuracy: 0.7938 - val_loss: 0.5669 - val_accuracy: 0.8108\n",
      "Epoch 26/30\n",
      "417/417 [==============================] - ETA: 0s - loss: 0.4591 - accuracy: 0.81 - ETA: 0s - loss: 0.4755 - accuracy: 0.82 - ETA: 0s - loss: 0.4943 - accuracy: 0.80 - 0s 396us/sample - loss: 0.5196 - accuracy: 0.7962 - val_loss: 0.5537 - val_accuracy: 0.7568\n",
      "Epoch 27/30\n",
      "417/417 [==============================] - ETA: 0s - loss: 0.4339 - accuracy: 0.81 - ETA: 0s - loss: 0.5446 - accuracy: 0.73 - 0s 345us/sample - loss: 0.5917 - accuracy: 0.7506 - val_loss: 1.7195 - val_accuracy: 0.2838\n",
      "Epoch 28/30\n",
      "417/417 [==============================] - ETA: 0s - loss: 1.6426 - accuracy: 0.31 - 0s 189us/sample - loss: 0.6285 - accuracy: 0.7434 - val_loss: 0.7659 - val_accuracy: 0.6892\n",
      "Epoch 29/30\n",
      "417/417 [==============================] - ETA: 0s - loss: 0.7185 - accuracy: 0.43 - ETA: 0s - loss: 0.5697 - accuracy: 0.72 - ETA: 0s - loss: 0.5434 - accuracy: 0.75 - 0s 379us/sample - loss: 0.5257 - accuracy: 0.7650 - val_loss: 0.9978 - val_accuracy: 0.7703\n",
      "Epoch 30/30\n",
      "417/417 [==============================] - ETA: 0s - loss: 0.4805 - accuracy: 0.81 - ETA: 0s - loss: 0.5212 - accuracy: 0.80 - 0s 212us/sample - loss: 0.5221 - accuracy: 0.7986 - val_loss: 0.6073 - val_accuracy: 0.7838\n"
     ]
    },
    {
     "data": {
      "text/html": [
       "<span style=\"color:#4527A0\"><h1 style=\"font-size:18px\">Trial complete</h1></span>"
      ],
      "text/plain": [
       "<IPython.core.display.HTML object>"
      ]
     },
     "metadata": {},
     "output_type": "display_data"
    },
    {
     "data": {
      "text/html": [
       "<span style=\"color:#4527A0\"><h1 style=\"font-size:18px\">Trial summary</h1></span>"
      ],
      "text/plain": [
       "<IPython.core.display.HTML object>"
      ]
     },
     "metadata": {},
     "output_type": "display_data"
    },
    {
     "data": {
      "text/html": [
       "<span style=\"color:cyan\"> |-Trial ID: 1d3e8957e26146b7319447d657bcd9af</span>"
      ],
      "text/plain": [
       "<IPython.core.display.HTML object>"
      ]
     },
     "metadata": {},
     "output_type": "display_data"
    },
    {
     "data": {
      "text/html": [
       "<span style=\"color:cyan\"> |-Score: 0.8108108043670654</span>"
      ],
      "text/plain": [
       "<IPython.core.display.HTML object>"
      ]
     },
     "metadata": {},
     "output_type": "display_data"
    },
    {
     "data": {
      "text/html": [
       "<span style=\"color:cyan\"> |-Best step: 0</span>"
      ],
      "text/plain": [
       "<IPython.core.display.HTML object>"
      ]
     },
     "metadata": {},
     "output_type": "display_data"
    },
    {
     "data": {
      "text/html": [
       "<span style=\"color:#7E57C2\"><h2 style=\"font-size:16px\">Hyperparameters:</h2></span>"
      ],
      "text/plain": [
       "<IPython.core.display.HTML object>"
      ]
     },
     "metadata": {},
     "output_type": "display_data"
    },
    {
     "data": {
      "text/html": [
       "<span style=\"color:cyan\"> |-learning_rate: 0.1</span>"
      ],
      "text/plain": [
       "<IPython.core.display.HTML object>"
      ]
     },
     "metadata": {},
     "output_type": "display_data"
    },
    {
     "data": {
      "text/html": [
       "<span style=\"color:blue\"> |-num_layers: 3</span>"
      ],
      "text/plain": [
       "<IPython.core.display.HTML object>"
      ]
     },
     "metadata": {},
     "output_type": "display_data"
    },
    {
     "data": {
      "text/html": [
       "<span style=\"color:cyan\"> |-units_0: 44</span>"
      ],
      "text/plain": [
       "<IPython.core.display.HTML object>"
      ]
     },
     "metadata": {},
     "output_type": "display_data"
    },
    {
     "data": {
      "text/html": [
       "<span style=\"color:blue\"> |-units_1: 28</span>"
      ],
      "text/plain": [
       "<IPython.core.display.HTML object>"
      ]
     },
     "metadata": {},
     "output_type": "display_data"
    },
    {
     "data": {
      "text/html": [
       "<span style=\"color:cyan\"> |-units_2: 36</span>"
      ],
      "text/plain": [
       "<IPython.core.display.HTML object>"
      ]
     },
     "metadata": {},
     "output_type": "display_data"
    },
    {
     "name": "stdout",
     "output_type": "stream",
     "text": [
      "Train on 417 samples, validate on 74 samples\n",
      "Epoch 1/30\n",
      "417/417 [==============================] - ETA: 16s - loss: 0.9538 - accuracy: 0.562 - ETA: 0s - loss: 1.0449 - accuracy: 0.690 - 2s 4ms/sample - loss: 1.0204 - accuracy: 0.6906 - val_loss: 0.8347 - val_accuracy: 0.7297\n",
      "Epoch 2/30\n",
      "417/417 [==============================] - ETA: 0s - loss: 1.0649 - accuracy: 0.65 - 0s 165us/sample - loss: 0.5424 - accuracy: 0.7866 - val_loss: 1.3567 - val_accuracy: 0.7297\n",
      "Epoch 3/30\n",
      "417/417 [==============================] - ETA: 0s - loss: 0.8152 - accuracy: 0.75 - 0s 175us/sample - loss: 0.5822 - accuracy: 0.7482 - val_loss: 0.9845 - val_accuracy: 0.7297\n",
      "Epoch 4/30\n",
      "417/417 [==============================] - ETA: 0s - loss: 0.7511 - accuracy: 0.78 - 0s 394us/sample - loss: 0.5398 - accuracy: 0.7866 - val_loss: 0.6442 - val_accuracy: 0.7838\n",
      "Epoch 5/30\n",
      "417/417 [==============================] - ETA: 0s - loss: 0.6017 - accuracy: 0.78 - ETA: 0s - loss: 0.5878 - accuracy: 0.74 - 0s 503us/sample - loss: 0.5858 - accuracy: 0.7530 - val_loss: 0.7743 - val_accuracy: 0.7973\n",
      "Epoch 6/30\n",
      "417/417 [==============================] - ETA: 0s - loss: 1.0850 - accuracy: 0.59 - ETA: 0s - loss: 0.6712 - accuracy: 0.71 - 0s 338us/sample - loss: 0.6004 - accuracy: 0.7578 - val_loss: 0.8525 - val_accuracy: 0.7162\n",
      "Epoch 7/30\n",
      "417/417 [==============================] - ETA: 0s - loss: 1.0013 - accuracy: 0.62 - ETA: 0s - loss: 0.5930 - accuracy: 0.75 - 0s 324us/sample - loss: 0.5664 - accuracy: 0.7746 - val_loss: 1.2207 - val_accuracy: 0.7568\n",
      "Epoch 8/30\n",
      "417/417 [==============================] - ETA: 0s - loss: 0.7325 - accuracy: 0.75 - ETA: 0s - loss: 0.5074 - accuracy: 0.79 - ETA: 0s - loss: 0.5278 - accuracy: 0.79 - 0s 423us/sample - loss: 0.5285 - accuracy: 0.7914 - val_loss: 0.5309 - val_accuracy: 0.7568\n",
      "Epoch 9/30\n",
      "417/417 [==============================] - ETA: 0s - loss: 0.5131 - accuracy: 0.78 - ETA: 0s - loss: 0.4869 - accuracy: 0.80 - ETA: 0s - loss: 0.5395 - accuracy: 0.78 - 0s 407us/sample - loss: 0.5427 - accuracy: 0.7794 - val_loss: 0.5040 - val_accuracy: 0.7838\n",
      "Epoch 10/30\n",
      "417/417 [==============================] - ETA: 0s - loss: 0.4093 - accuracy: 0.84 - ETA: 0s - loss: 0.5310 - accuracy: 0.80 - 0s 544us/sample - loss: 0.5232 - accuracy: 0.7962 - val_loss: 0.5318 - val_accuracy: 0.8108\n",
      "Epoch 11/30\n",
      "417/417 [==============================] - ETA: 0s - loss: 0.4698 - accuracy: 0.81 - ETA: 0s - loss: 0.5356 - accuracy: 0.79 - ETA: 0s - loss: 0.5973 - accuracy: 0.77 - 0s 425us/sample - loss: 0.5967 - accuracy: 0.7746 - val_loss: 0.9347 - val_accuracy: 0.7838\n",
      "Epoch 12/30\n",
      "417/417 [==============================] - ETA: 0s - loss: 0.7770 - accuracy: 0.71 - ETA: 0s - loss: 0.6464 - accuracy: 0.72 - ETA: 0s - loss: 0.5932 - accuracy: 0.76 - 0s 380us/sample - loss: 0.5926 - accuracy: 0.7626 - val_loss: 0.4860 - val_accuracy: 0.8108\n",
      "Epoch 13/30\n",
      "417/417 [==============================] - ETA: 0s - loss: 0.5270 - accuracy: 0.75 - ETA: 0s - loss: 0.5381 - accuracy: 0.78 - 0s 316us/sample - loss: 0.5189 - accuracy: 0.7890 - val_loss: 0.5477 - val_accuracy: 0.8108\n",
      "Epoch 14/30\n",
      "417/417 [==============================] - ETA: 0s - loss: 0.5531 - accuracy: 0.81 - ETA: 0s - loss: 0.5463 - accuracy: 0.77 - 0s 333us/sample - loss: 0.5489 - accuracy: 0.7794 - val_loss: 0.4919 - val_accuracy: 0.7838\n",
      "Epoch 15/30\n",
      "417/417 [==============================] - ETA: 0s - loss: 0.4900 - accuracy: 0.78 - ETA: 0s - loss: 0.4767 - accuracy: 0.80 - 0s 316us/sample - loss: 0.5046 - accuracy: 0.7842 - val_loss: 0.4629 - val_accuracy: 0.8108\n",
      "Epoch 16/30\n",
      "417/417 [==============================] - ETA: 0s - loss: 0.2942 - accuracy: 0.93 - ETA: 0s - loss: 0.5012 - accuracy: 0.77 - 0s 345us/sample - loss: 0.5665 - accuracy: 0.7602 - val_loss: 1.6244 - val_accuracy: 0.4865\n",
      "Epoch 17/30\n",
      "417/417 [==============================] - ETA: 0s - loss: 1.6649 - accuracy: 0.50 - ETA: 0s - loss: 0.7236 - accuracy: 0.75 - 0s 316us/sample - loss: 0.6124 - accuracy: 0.7794 - val_loss: 1.2703 - val_accuracy: 0.7162\n",
      "Epoch 18/30\n",
      "417/417 [==============================] - ETA: 0s - loss: 1.0854 - accuracy: 0.68 - ETA: 0s - loss: 0.6580 - accuracy: 0.76 - 0s 308us/sample - loss: 0.6092 - accuracy: 0.7674 - val_loss: 1.5416 - val_accuracy: 0.4865\n",
      "Epoch 19/30\n",
      "417/417 [==============================] - ETA: 0s - loss: 1.3664 - accuracy: 0.50 - ETA: 0s - loss: 0.5931 - accuracy: 0.77 - 0s 251us/sample - loss: 0.5841 - accuracy: 0.7698 - val_loss: 0.5970 - val_accuracy: 0.7568\n",
      "Epoch 20/30\n",
      "417/417 [==============================] - ETA: 0s - loss: 0.5266 - accuracy: 0.75 - 0s 191us/sample - loss: 0.5915 - accuracy: 0.7722 - val_loss: 0.5187 - val_accuracy: 0.7568\n",
      "Epoch 21/30\n",
      "417/417 [==============================] - ETA: 0s - loss: 0.4549 - accuracy: 0.84 - ETA: 0s - loss: 0.5158 - accuracy: 0.79 - 0s 235us/sample - loss: 0.5212 - accuracy: 0.7890 - val_loss: 0.5463 - val_accuracy: 0.7973\n",
      "Epoch 22/30\n",
      "417/417 [==============================] - ETA: 0s - loss: 0.4602 - accuracy: 0.81 - ETA: 0s - loss: 0.5633 - accuracy: 0.77 - 0s 303us/sample - loss: 0.6477 - accuracy: 0.7410 - val_loss: 1.0876 - val_accuracy: 0.7162\n",
      "Epoch 23/30\n",
      "417/417 [==============================] - ETA: 0s - loss: 0.7855 - accuracy: 0.75 - ETA: 0s - loss: 0.5254 - accuracy: 0.79 - 0s 308us/sample - loss: 0.5312 - accuracy: 0.7890 - val_loss: 0.6064 - val_accuracy: 0.7973\n",
      "Epoch 24/30\n",
      "417/417 [==============================] - ETA: 0s - loss: 0.6193 - accuracy: 0.75 - ETA: 0s - loss: 0.4464 - accuracy: 0.81 - ETA: 0s - loss: 0.4989 - accuracy: 0.79 - 0s 411us/sample - loss: 0.5099 - accuracy: 0.7962 - val_loss: 0.5438 - val_accuracy: 0.7973\n",
      "Epoch 25/30\n",
      "417/417 [==============================] - ETA: 0s - loss: 0.6317 - accuracy: 0.65 - ETA: 0s - loss: 0.4730 - accuracy: 0.81 - ETA: 0s - loss: 0.4891 - accuracy: 0.78 - 0s 420us/sample - loss: 0.4890 - accuracy: 0.7890 - val_loss: 0.5320 - val_accuracy: 0.7973\n",
      "Epoch 26/30\n",
      "417/417 [==============================] - ETA: 0s - loss: 0.4102 - accuracy: 0.87 - ETA: 0s - loss: 0.5036 - accuracy: 0.78 - 0s 358us/sample - loss: 0.4921 - accuracy: 0.7914 - val_loss: 0.5633 - val_accuracy: 0.7973\n",
      "Epoch 27/30\n",
      "417/417 [==============================] - ETA: 0s - loss: 0.3529 - accuracy: 0.87 - ETA: 0s - loss: 0.5357 - accuracy: 0.78 - ETA: 0s - loss: 0.5413 - accuracy: 0.79 - 0s 427us/sample - loss: 0.5428 - accuracy: 0.7914 - val_loss: 0.6199 - val_accuracy: 0.7973\n",
      "Epoch 28/30\n",
      "417/417 [==============================] - ETA: 0s - loss: 0.6657 - accuracy: 0.75 - ETA: 0s - loss: 0.5950 - accuracy: 0.77 - ETA: 0s - loss: 0.5593 - accuracy: 0.77 - 0s 412us/sample - loss: 0.5470 - accuracy: 0.7842 - val_loss: 0.5475 - val_accuracy: 0.7973\n",
      "Epoch 29/30\n",
      "417/417 [==============================] - ETA: 0s - loss: 0.4295 - accuracy: 0.84 - ETA: 0s - loss: 0.5425 - accuracy: 0.75 - ETA: 0s - loss: 0.5013 - accuracy: 0.78 - 0s 389us/sample - loss: 0.5009 - accuracy: 0.7866 - val_loss: 0.6578 - val_accuracy: 0.7973\n",
      "Epoch 30/30\n",
      "417/417 [==============================] - ETA: 0s - loss: 0.5312 - accuracy: 0.71 - ETA: 0s - loss: 0.4908 - accuracy: 0.77 - 0s 357us/sample - loss: 0.4933 - accuracy: 0.7818 - val_loss: 0.8171 - val_accuracy: 0.7568\n"
     ]
    },
    {
     "data": {
      "text/html": [
       "<span style=\"color:#4527A0\"><h1 style=\"font-size:18px\">Trial complete</h1></span>"
      ],
      "text/plain": [
       "<IPython.core.display.HTML object>"
      ]
     },
     "metadata": {},
     "output_type": "display_data"
    },
    {
     "data": {
      "text/html": [
       "<span style=\"color:#4527A0\"><h1 style=\"font-size:18px\">Trial summary</h1></span>"
      ],
      "text/plain": [
       "<IPython.core.display.HTML object>"
      ]
     },
     "metadata": {},
     "output_type": "display_data"
    },
    {
     "data": {
      "text/html": [
       "<span style=\"color:cyan\"> |-Trial ID: b64be9a8e5659a3deb4b53eadfa29467</span>"
      ],
      "text/plain": [
       "<IPython.core.display.HTML object>"
      ]
     },
     "metadata": {},
     "output_type": "display_data"
    },
    {
     "data": {
      "text/html": [
       "<span style=\"color:cyan\"> |-Score: 0.8108108043670654</span>"
      ],
      "text/plain": [
       "<IPython.core.display.HTML object>"
      ]
     },
     "metadata": {},
     "output_type": "display_data"
    },
    {
     "data": {
      "text/html": [
       "<span style=\"color:cyan\"> |-Best step: 0</span>"
      ],
      "text/plain": [
       "<IPython.core.display.HTML object>"
      ]
     },
     "metadata": {},
     "output_type": "display_data"
    },
    {
     "data": {
      "text/html": [
       "<span style=\"color:#7E57C2\"><h2 style=\"font-size:16px\">Hyperparameters:</h2></span>"
      ],
      "text/plain": [
       "<IPython.core.display.HTML object>"
      ]
     },
     "metadata": {},
     "output_type": "display_data"
    },
    {
     "data": {
      "text/html": [
       "<span style=\"color:cyan\"> |-learning_rate: 0.1</span>"
      ],
      "text/plain": [
       "<IPython.core.display.HTML object>"
      ]
     },
     "metadata": {},
     "output_type": "display_data"
    },
    {
     "data": {
      "text/html": [
       "<span style=\"color:blue\"> |-num_layers: 2</span>"
      ],
      "text/plain": [
       "<IPython.core.display.HTML object>"
      ]
     },
     "metadata": {},
     "output_type": "display_data"
    },
    {
     "data": {
      "text/html": [
       "<span style=\"color:cyan\"> |-units_0: 36</span>"
      ],
      "text/plain": [
       "<IPython.core.display.HTML object>"
      ]
     },
     "metadata": {},
     "output_type": "display_data"
    },
    {
     "data": {
      "text/html": [
       "<span style=\"color:blue\"> |-units_1: 36</span>"
      ],
      "text/plain": [
       "<IPython.core.display.HTML object>"
      ]
     },
     "metadata": {},
     "output_type": "display_data"
    },
    {
     "data": {
      "text/html": [
       "<span style=\"color:cyan\"> |-units_2: 44</span>"
      ],
      "text/plain": [
       "<IPython.core.display.HTML object>"
      ]
     },
     "metadata": {},
     "output_type": "display_data"
    },
    {
     "name": "stdout",
     "output_type": "stream",
     "text": [
      "Train on 417 samples, validate on 74 samples\n",
      "Epoch 1/30\n",
      "417/417 [==============================] - ETA: 10s - loss: 0.7590 - accuracy: 0.437 - 1s 3ms/sample - loss: 0.6126 - accuracy: 0.7242 - val_loss: 0.6465 - val_accuracy: 0.7162\n",
      "Epoch 2/30\n",
      "417/417 [==============================] - ETA: 0s - loss: 0.7394 - accuracy: 0.75 - 0s 283us/sample - loss: 0.5217 - accuracy: 0.7842 - val_loss: 0.5283 - val_accuracy: 0.7838\n",
      "Epoch 3/30\n",
      "417/417 [==============================] - ETA: 0s - loss: 0.4186 - accuracy: 0.84 - 0s 135us/sample - loss: 0.5066 - accuracy: 0.7938 - val_loss: 2.1003 - val_accuracy: 0.2838\n",
      "Epoch 4/30\n",
      "417/417 [==============================] - ETA: 0s - loss: 1.8730 - accuracy: 0.37 - 0s 169us/sample - loss: 0.6203 - accuracy: 0.7602 - val_loss: 0.5909 - val_accuracy: 0.6892\n",
      "Epoch 5/30\n",
      "417/417 [==============================] - ETA: 0s - loss: 0.5385 - accuracy: 0.75 - 0s 282us/sample - loss: 0.5125 - accuracy: 0.7890 - val_loss: 0.5462 - val_accuracy: 0.8108\n",
      "Epoch 6/30\n",
      "417/417 [==============================] - ETA: 0s - loss: 0.5232 - accuracy: 0.75 - 0s 148us/sample - loss: 0.5189 - accuracy: 0.7842 - val_loss: 0.8279 - val_accuracy: 0.4459\n",
      "Epoch 7/30\n",
      "417/417 [==============================] - ETA: 0s - loss: 0.9392 - accuracy: 0.50 - 0s 134us/sample - loss: 0.5407 - accuracy: 0.7674 - val_loss: 0.5480 - val_accuracy: 0.7568\n",
      "Epoch 8/30\n",
      "417/417 [==============================] - ETA: 0s - loss: 0.5233 - accuracy: 0.78 - 0s 152us/sample - loss: 0.4965 - accuracy: 0.8034 - val_loss: 0.5237 - val_accuracy: 0.7568\n",
      "Epoch 9/30\n",
      "417/417 [==============================] - ETA: 0s - loss: 0.3832 - accuracy: 0.84 - 0s 156us/sample - loss: 0.5115 - accuracy: 0.7866 - val_loss: 0.5218 - val_accuracy: 0.7838\n",
      "Epoch 10/30\n",
      "417/417 [==============================] - ETA: 0s - loss: 0.3983 - accuracy: 0.87 - 0s 135us/sample - loss: 0.4966 - accuracy: 0.7962 - val_loss: 0.5581 - val_accuracy: 0.7297\n",
      "Epoch 11/30\n",
      "417/417 [==============================] - ETA: 0s - loss: 0.5526 - accuracy: 0.78 - 0s 141us/sample - loss: 0.5208 - accuracy: 0.7674 - val_loss: 0.4993 - val_accuracy: 0.8108\n",
      "Epoch 12/30\n",
      "417/417 [==============================] - ETA: 0s - loss: 0.4294 - accuracy: 0.81 - 0s 136us/sample - loss: 0.5254 - accuracy: 0.7842 - val_loss: 0.5356 - val_accuracy: 0.7703\n",
      "Epoch 13/30\n",
      "417/417 [==============================] - ETA: 0s - loss: 0.5525 - accuracy: 0.71 - 0s 158us/sample - loss: 0.5042 - accuracy: 0.7842 - val_loss: 0.5253 - val_accuracy: 0.7838\n",
      "Epoch 14/30\n",
      "417/417 [==============================] - ETA: 0s - loss: 0.3960 - accuracy: 0.84 - 0s 145us/sample - loss: 0.4928 - accuracy: 0.8058 - val_loss: 0.5320 - val_accuracy: 0.7973\n",
      "Epoch 15/30\n",
      "417/417 [==============================] - ETA: 0s - loss: 0.5601 - accuracy: 0.78 - 0s 156us/sample - loss: 0.5254 - accuracy: 0.7818 - val_loss: 0.5549 - val_accuracy: 0.8108\n",
      "Epoch 16/30\n",
      "417/417 [==============================] - ETA: 0s - loss: 0.3854 - accuracy: 0.84 - 0s 150us/sample - loss: 0.5310 - accuracy: 0.7890 - val_loss: 0.5836 - val_accuracy: 0.7568\n",
      "Epoch 17/30\n",
      "417/417 [==============================] - ETA: 0s - loss: 0.5451 - accuracy: 0.71 - 0s 143us/sample - loss: 0.4983 - accuracy: 0.7914 - val_loss: 0.8031 - val_accuracy: 0.7432\n",
      "Epoch 18/30\n",
      "417/417 [==============================] - ETA: 0s - loss: 0.4446 - accuracy: 0.78 - 0s 136us/sample - loss: 0.5207 - accuracy: 0.7698 - val_loss: 0.5912 - val_accuracy: 0.7703\n",
      "Epoch 19/30\n",
      "417/417 [==============================] - ETA: 0s - loss: 0.3808 - accuracy: 0.87 - 0s 150us/sample - loss: 0.5032 - accuracy: 0.7962 - val_loss: 0.5354 - val_accuracy: 0.7838\n",
      "Epoch 20/30\n",
      "417/417 [==============================] - ETA: 0s - loss: 0.3867 - accuracy: 0.87 - 0s 153us/sample - loss: 0.4793 - accuracy: 0.7962 - val_loss: 0.5674 - val_accuracy: 0.7703\n",
      "Epoch 21/30\n",
      "417/417 [==============================] - ETA: 0s - loss: 0.4677 - accuracy: 0.78 - 0s 158us/sample - loss: 0.4946 - accuracy: 0.7938 - val_loss: 0.5676 - val_accuracy: 0.7973\n",
      "Epoch 22/30\n",
      "417/417 [==============================] - ETA: 0s - loss: 0.3181 - accuracy: 0.90 - 0s 176us/sample - loss: 0.5117 - accuracy: 0.7890 - val_loss: 0.6094 - val_accuracy: 0.7297\n",
      "Epoch 23/30\n",
      "417/417 [==============================] - ETA: 0s - loss: 0.5591 - accuracy: 0.71 - ETA: 0s - loss: 0.5139 - accuracy: 0.77 - 0s 228us/sample - loss: 0.5094 - accuracy: 0.7770 - val_loss: 0.6188 - val_accuracy: 0.8108\n",
      "Epoch 24/30\n",
      "417/417 [==============================] - ETA: 0s - loss: 0.3499 - accuracy: 0.93 - ETA: 0s - loss: 0.4753 - accuracy: 0.79 - 0s 236us/sample - loss: 0.4748 - accuracy: 0.7986 - val_loss: 0.5645 - val_accuracy: 0.7973\n",
      "Epoch 25/30\n",
      "417/417 [==============================] - ETA: 0s - loss: 0.4765 - accuracy: 0.81 - ETA: 0s - loss: 0.4878 - accuracy: 0.79 - 0s 278us/sample - loss: 0.5210 - accuracy: 0.7698 - val_loss: 0.5620 - val_accuracy: 0.8108\n",
      "Epoch 26/30\n",
      "417/417 [==============================] - ETA: 0s - loss: 0.5951 - accuracy: 0.75 - 0s 151us/sample - loss: 0.5044 - accuracy: 0.7986 - val_loss: 0.5537 - val_accuracy: 0.7162\n",
      "Epoch 27/30\n",
      "417/417 [==============================] - ETA: 0s - loss: 0.3799 - accuracy: 0.84 - 0s 159us/sample - loss: 0.4685 - accuracy: 0.7842 - val_loss: 0.6534 - val_accuracy: 0.8108\n",
      "Epoch 28/30\n",
      "417/417 [==============================] - ETA: 0s - loss: 0.4394 - accuracy: 0.81 - ETA: 0s - loss: 0.4828 - accuracy: 0.80 - 0s 237us/sample - loss: 0.4670 - accuracy: 0.8129 - val_loss: 0.5980 - val_accuracy: 0.7703\n",
      "Epoch 29/30\n",
      "417/417 [==============================] - ETA: 0s - loss: 0.5810 - accuracy: 0.71 - ETA: 0s - loss: 0.4592 - accuracy: 0.81 - 0s 257us/sample - loss: 0.4756 - accuracy: 0.8058 - val_loss: 0.6423 - val_accuracy: 0.7568\n",
      "Epoch 30/30\n",
      "417/417 [==============================] - ETA: 0s - loss: 0.5186 - accuracy: 0.78 - 0s 213us/sample - loss: 0.4973 - accuracy: 0.7890 - val_loss: 0.5701 - val_accuracy: 0.7838\n"
     ]
    },
    {
     "data": {
      "text/html": [
       "<span style=\"color:#4527A0\"><h1 style=\"font-size:18px\">Trial complete</h1></span>"
      ],
      "text/plain": [
       "<IPython.core.display.HTML object>"
      ]
     },
     "metadata": {},
     "output_type": "display_data"
    },
    {
     "data": {
      "text/html": [
       "<span style=\"color:#4527A0\"><h1 style=\"font-size:18px\">Trial summary</h1></span>"
      ],
      "text/plain": [
       "<IPython.core.display.HTML object>"
      ]
     },
     "metadata": {},
     "output_type": "display_data"
    },
    {
     "data": {
      "text/html": [
       "<span style=\"color:cyan\"> |-Trial ID: 422fa88146221fc86db1bd106e974fd2</span>"
      ],
      "text/plain": [
       "<IPython.core.display.HTML object>"
      ]
     },
     "metadata": {},
     "output_type": "display_data"
    },
    {
     "data": {
      "text/html": [
       "<span style=\"color:cyan\"> |-Score: 0.8108108043670654</span>"
      ],
      "text/plain": [
       "<IPython.core.display.HTML object>"
      ]
     },
     "metadata": {},
     "output_type": "display_data"
    },
    {
     "data": {
      "text/html": [
       "<span style=\"color:cyan\"> |-Best step: 0</span>"
      ],
      "text/plain": [
       "<IPython.core.display.HTML object>"
      ]
     },
     "metadata": {},
     "output_type": "display_data"
    },
    {
     "data": {
      "text/html": [
       "<span style=\"color:#7E57C2\"><h2 style=\"font-size:16px\">Hyperparameters:</h2></span>"
      ],
      "text/plain": [
       "<IPython.core.display.HTML object>"
      ]
     },
     "metadata": {},
     "output_type": "display_data"
    },
    {
     "data": {
      "text/html": [
       "<span style=\"color:cyan\"> |-learning_rate: 0.08</span>"
      ],
      "text/plain": [
       "<IPython.core.display.HTML object>"
      ]
     },
     "metadata": {},
     "output_type": "display_data"
    },
    {
     "data": {
      "text/html": [
       "<span style=\"color:blue\"> |-num_layers: 1</span>"
      ],
      "text/plain": [
       "<IPython.core.display.HTML object>"
      ]
     },
     "metadata": {},
     "output_type": "display_data"
    },
    {
     "data": {
      "text/html": [
       "<span style=\"color:cyan\"> |-units_0: 20</span>"
      ],
      "text/plain": [
       "<IPython.core.display.HTML object>"
      ]
     },
     "metadata": {},
     "output_type": "display_data"
    },
    {
     "data": {
      "text/html": [
       "<span style=\"color:blue\"> |-units_1: 36</span>"
      ],
      "text/plain": [
       "<IPython.core.display.HTML object>"
      ]
     },
     "metadata": {},
     "output_type": "display_data"
    },
    {
     "data": {
      "text/html": [
       "<span style=\"color:cyan\"> |-units_2: 36</span>"
      ],
      "text/plain": [
       "<IPython.core.display.HTML object>"
      ]
     },
     "metadata": {},
     "output_type": "display_data"
    },
    {
     "name": "stdout",
     "output_type": "stream",
     "text": [
      "Train on 417 samples, validate on 74 samples\n",
      "Epoch 1/30\n",
      "417/417 [==============================] - ETA: 15s - loss: 0.7365 - accuracy: 0.531 - 2s 4ms/sample - loss: 1.0834 - accuracy: 0.7242 - val_loss: 0.6563 - val_accuracy: 0.7703\n",
      "Epoch 2/30\n",
      "417/417 [==============================] - ETA: 0s - loss: 0.6796 - accuracy: 0.71 - ETA: 0s - loss: 0.6136 - accuracy: 0.75 - 0s 437us/sample - loss: 0.5977 - accuracy: 0.7602 - val_loss: 0.5975 - val_accuracy: 0.7973\n",
      "Epoch 3/30\n",
      "417/417 [==============================] - ETA: 0s - loss: 0.6804 - accuracy: 0.71 - ETA: 0s - loss: 0.5104 - accuracy: 0.80 - 0s 259us/sample - loss: 0.5202 - accuracy: 0.7938 - val_loss: 0.4803 - val_accuracy: 0.7973\n",
      "Epoch 4/30\n",
      "417/417 [==============================] - ETA: 0s - loss: 0.4467 - accuracy: 0.81 - ETA: 0s - loss: 0.5876 - accuracy: 0.76 - 0s 513us/sample - loss: 0.5764 - accuracy: 0.7746 - val_loss: 0.5200 - val_accuracy: 0.8108\n",
      "Epoch 5/30\n",
      "417/417 [==============================] - ETA: 0s - loss: 0.4484 - accuracy: 0.81 - ETA: 0s - loss: 0.4793 - accuracy: 0.80 - 0s 335us/sample - loss: 0.5022 - accuracy: 0.7938 - val_loss: 1.0468 - val_accuracy: 0.7162\n",
      "Epoch 6/30\n",
      "417/417 [==============================] - ETA: 0s - loss: 1.2793 - accuracy: 0.62 - ETA: 0s - loss: 0.6231 - accuracy: 0.75 - 0s 290us/sample - loss: 0.5962 - accuracy: 0.7554 - val_loss: 0.5958 - val_accuracy: 0.7297\n",
      "Epoch 7/30\n",
      "417/417 [==============================] - ETA: 0s - loss: 0.4776 - accuracy: 0.81 - ETA: 0s - loss: 0.5573 - accuracy: 0.79 - 0s 297us/sample - loss: 0.5730 - accuracy: 0.7794 - val_loss: 0.5040 - val_accuracy: 0.8108\n",
      "Epoch 8/30\n",
      "417/417 [==============================] - ETA: 0s - loss: 0.6502 - accuracy: 0.65 - 0s 177us/sample - loss: 0.5286 - accuracy: 0.7818 - val_loss: 0.5040 - val_accuracy: 0.8108\n",
      "Epoch 9/30\n",
      "417/417 [==============================] - ETA: 0s - loss: 0.4694 - accuracy: 0.81 - ETA: 0s - loss: 0.5139 - accuracy: 0.79 - 0s 313us/sample - loss: 0.5132 - accuracy: 0.7914 - val_loss: 0.5120 - val_accuracy: 0.7973\n",
      "Epoch 10/30\n",
      "417/417 [==============================] - ETA: 0s - loss: 0.5242 - accuracy: 0.78 - ETA: 0s - loss: 0.5165 - accuracy: 0.80 - 0s 302us/sample - loss: 0.5387 - accuracy: 0.7818 - val_loss: 0.5163 - val_accuracy: 0.7973\n",
      "Epoch 11/30\n",
      "417/417 [==============================] - ETA: 0s - loss: 0.5401 - accuracy: 0.84 - ETA: 0s - loss: 0.5716 - accuracy: 0.75 - 0s 305us/sample - loss: 0.5372 - accuracy: 0.7770 - val_loss: 0.4774 - val_accuracy: 0.8108\n",
      "Epoch 12/30\n",
      "417/417 [==============================] - ETA: 0s - loss: 0.4043 - accuracy: 0.84 - ETA: 0s - loss: 0.5111 - accuracy: 0.79 - 0s 282us/sample - loss: 0.5076 - accuracy: 0.7962 - val_loss: 0.4999 - val_accuracy: 0.8108\n",
      "Epoch 13/30\n",
      "417/417 [==============================] - ETA: 0s - loss: 0.5346 - accuracy: 0.81 - ETA: 0s - loss: 0.5533 - accuracy: 0.77 - 0s 342us/sample - loss: 0.5100 - accuracy: 0.7986 - val_loss: 0.6117 - val_accuracy: 0.8108\n",
      "Epoch 14/30\n",
      "417/417 [==============================] - ETA: 0s - loss: 0.3475 - accuracy: 0.84 - ETA: 0s - loss: 0.5269 - accuracy: 0.77 - 0s 307us/sample - loss: 0.5558 - accuracy: 0.7818 - val_loss: 0.4910 - val_accuracy: 0.8108\n",
      "Epoch 15/30\n",
      "417/417 [==============================] - ETA: 0s - loss: 0.5512 - accuracy: 0.75 - ETA: 0s - loss: 0.5660 - accuracy: 0.75 - 0s 308us/sample - loss: 0.5357 - accuracy: 0.7818 - val_loss: 0.4967 - val_accuracy: 0.8108\n",
      "Epoch 16/30\n",
      "417/417 [==============================] - ETA: 0s - loss: 0.5580 - accuracy: 0.75 - ETA: 0s - loss: 0.5221 - accuracy: 0.78 - 0s 309us/sample - loss: 0.5029 - accuracy: 0.7986 - val_loss: 0.4943 - val_accuracy: 0.7973\n",
      "Epoch 17/30\n",
      "417/417 [==============================] - ETA: 0s - loss: 0.3531 - accuracy: 0.90 - ETA: 0s - loss: 0.4937 - accuracy: 0.79 - ETA: 0s - loss: 0.5076 - accuracy: 0.79 - 0s 391us/sample - loss: 0.5070 - accuracy: 0.7938 - val_loss: 0.4845 - val_accuracy: 0.8108\n",
      "Epoch 18/30\n",
      "417/417 [==============================] - ETA: 0s - loss: 0.4744 - accuracy: 0.81 - ETA: 0s - loss: 0.5256 - accuracy: 0.80 - 0s 330us/sample - loss: 0.5848 - accuracy: 0.7674 - val_loss: 0.5127 - val_accuracy: 0.8108\n",
      "Epoch 19/30\n",
      "417/417 [==============================] - ETA: 0s - loss: 0.3727 - accuracy: 0.87 - ETA: 0s - loss: 0.4936 - accuracy: 0.80 - 0s 318us/sample - loss: 0.5096 - accuracy: 0.7914 - val_loss: 0.5131 - val_accuracy: 0.8108\n",
      "Epoch 20/30\n",
      "417/417 [==============================] - ETA: 0s - loss: 0.4569 - accuracy: 0.81 - ETA: 0s - loss: 0.4951 - accuracy: 0.79 - 0s 323us/sample - loss: 0.4997 - accuracy: 0.7914 - val_loss: 0.5471 - val_accuracy: 0.8108\n",
      "Epoch 21/30\n",
      "417/417 [==============================] - ETA: 0s - loss: 0.5659 - accuracy: 0.71 - ETA: 0s - loss: 0.5108 - accuracy: 0.77 - 0s 296us/sample - loss: 0.5237 - accuracy: 0.7938 - val_loss: 0.4991 - val_accuracy: 0.8108\n",
      "Epoch 22/30\n",
      "417/417 [==============================] - ETA: 0s - loss: 0.3646 - accuracy: 0.87 - ETA: 0s - loss: 0.5244 - accuracy: 0.76 - 0s 320us/sample - loss: 0.5233 - accuracy: 0.7746 - val_loss: 0.5288 - val_accuracy: 0.7568\n",
      "Epoch 23/30\n",
      "417/417 [==============================] - ETA: 0s - loss: 0.3535 - accuracy: 0.90 - ETA: 0s - loss: 0.5215 - accuracy: 0.78 - 0s 326us/sample - loss: 0.5231 - accuracy: 0.7866 - val_loss: 0.5247 - val_accuracy: 0.8108\n",
      "Epoch 24/30\n",
      "417/417 [==============================] - ETA: 0s - loss: 0.5197 - accuracy: 0.75 - ETA: 0s - loss: 0.4848 - accuracy: 0.82 - 0s 342us/sample - loss: 0.5259 - accuracy: 0.7962 - val_loss: 0.5160 - val_accuracy: 0.8108\n",
      "Epoch 25/30\n",
      "417/417 [==============================] - ETA: 0s - loss: 0.4462 - accuracy: 0.84 - ETA: 0s - loss: 0.5243 - accuracy: 0.79 - ETA: 0s - loss: 0.5203 - accuracy: 0.75 - 0s 411us/sample - loss: 0.5248 - accuracy: 0.7578 - val_loss: 0.6626 - val_accuracy: 0.6216\n",
      "Epoch 26/30\n",
      "417/417 [==============================] - ETA: 0s - loss: 0.8085 - accuracy: 0.37 - ETA: 0s - loss: 0.5993 - accuracy: 0.75 - 0s 670us/sample - loss: 0.5886 - accuracy: 0.7434 - val_loss: 0.5187 - val_accuracy: 0.8378\n",
      "Epoch 27/30\n",
      "417/417 [==============================] - ETA: 0s - loss: 0.4726 - accuracy: 0.78 - ETA: 0s - loss: 0.4640 - accuracy: 0.81 - 0s 342us/sample - loss: 0.4983 - accuracy: 0.7962 - val_loss: 0.6386 - val_accuracy: 0.6081\n",
      "Epoch 28/30\n",
      "417/417 [==============================] - ETA: 0s - loss: 0.5893 - accuracy: 0.68 - ETA: 0s - loss: 0.5889 - accuracy: 0.74 - ETA: 0s - loss: 0.6122 - accuracy: 0.76 - 0s 399us/sample - loss: 0.6141 - accuracy: 0.7626 - val_loss: 1.1853 - val_accuracy: 0.3784\n",
      "Epoch 29/30\n",
      "417/417 [==============================] - ETA: 0s - loss: 1.3779 - accuracy: 0.34 - ETA: 0s - loss: 0.5515 - accuracy: 0.77 - 0s 355us/sample - loss: 0.5573 - accuracy: 0.7650 - val_loss: 0.7858 - val_accuracy: 0.6351\n",
      "Epoch 30/30\n",
      "417/417 [==============================] - ETA: 0s - loss: 0.5305 - accuracy: 0.65 - ETA: 0s - loss: 0.4986 - accuracy: 0.79 - 0s 356us/sample - loss: 0.5111 - accuracy: 0.7866 - val_loss: 0.7259 - val_accuracy: 0.5946\n"
     ]
    },
    {
     "data": {
      "text/html": [
       "<span style=\"color:#4527A0\"><h1 style=\"font-size:18px\">Trial complete</h1></span>"
      ],
      "text/plain": [
       "<IPython.core.display.HTML object>"
      ]
     },
     "metadata": {},
     "output_type": "display_data"
    },
    {
     "data": {
      "text/html": [
       "<span style=\"color:#4527A0\"><h1 style=\"font-size:18px\">Trial summary</h1></span>"
      ],
      "text/plain": [
       "<IPython.core.display.HTML object>"
      ]
     },
     "metadata": {},
     "output_type": "display_data"
    },
    {
     "data": {
      "text/html": [
       "<span style=\"color:cyan\"> |-Trial ID: 647e605025065e1c0c638e778935ed5f</span>"
      ],
      "text/plain": [
       "<IPython.core.display.HTML object>"
      ]
     },
     "metadata": {},
     "output_type": "display_data"
    },
    {
     "data": {
      "text/html": [
       "<span style=\"color:cyan\"> |-Score: 0.837837815284729</span>"
      ],
      "text/plain": [
       "<IPython.core.display.HTML object>"
      ]
     },
     "metadata": {},
     "output_type": "display_data"
    },
    {
     "data": {
      "text/html": [
       "<span style=\"color:cyan\"> |-Best step: 0</span>"
      ],
      "text/plain": [
       "<IPython.core.display.HTML object>"
      ]
     },
     "metadata": {},
     "output_type": "display_data"
    },
    {
     "data": {
      "text/html": [
       "<span style=\"color:#7E57C2\"><h2 style=\"font-size:16px\">Hyperparameters:</h2></span>"
      ],
      "text/plain": [
       "<IPython.core.display.HTML object>"
      ]
     },
     "metadata": {},
     "output_type": "display_data"
    },
    {
     "data": {
      "text/html": [
       "<span style=\"color:cyan\"> |-learning_rate: 0.08</span>"
      ],
      "text/plain": [
       "<IPython.core.display.HTML object>"
      ]
     },
     "metadata": {},
     "output_type": "display_data"
    },
    {
     "data": {
      "text/html": [
       "<span style=\"color:blue\"> |-num_layers: 2</span>"
      ],
      "text/plain": [
       "<IPython.core.display.HTML object>"
      ]
     },
     "metadata": {},
     "output_type": "display_data"
    },
    {
     "data": {
      "text/html": [
       "<span style=\"color:cyan\"> |-units_0: 36</span>"
      ],
      "text/plain": [
       "<IPython.core.display.HTML object>"
      ]
     },
     "metadata": {},
     "output_type": "display_data"
    },
    {
     "data": {
      "text/html": [
       "<span style=\"color:blue\"> |-units_1: 36</span>"
      ],
      "text/plain": [
       "<IPython.core.display.HTML object>"
      ]
     },
     "metadata": {},
     "output_type": "display_data"
    },
    {
     "data": {
      "text/html": [
       "<span style=\"color:cyan\"> |-units_2: 28</span>"
      ],
      "text/plain": [
       "<IPython.core.display.HTML object>"
      ]
     },
     "metadata": {},
     "output_type": "display_data"
    },
    {
     "name": "stdout",
     "output_type": "stream",
     "text": [
      "Train on 417 samples, validate on 74 samples\n",
      "Epoch 1/30\n",
      "417/417 [==============================] - ETA: 10s - loss: 0.6509 - accuracy: 0.500 - 1s 3ms/sample - loss: 0.6913 - accuracy: 0.7290 - val_loss: 0.7306 - val_accuracy: 0.7027\n",
      "Epoch 2/30\n",
      "417/417 [==============================] - ETA: 0s - loss: 0.4876 - accuracy: 0.81 - 0s 312us/sample - loss: 0.5226 - accuracy: 0.7794 - val_loss: 0.5475 - val_accuracy: 0.7703\n",
      "Epoch 3/30\n",
      "417/417 [==============================] - ETA: 0s - loss: 0.4884 - accuracy: 0.81 - 0s 134us/sample - loss: 0.5090 - accuracy: 0.7866 - val_loss: 0.5551 - val_accuracy: 0.7568\n",
      "Epoch 4/30\n",
      "417/417 [==============================] - ETA: 0s - loss: 0.5504 - accuracy: 0.78 - 0s 155us/sample - loss: 0.5057 - accuracy: 0.7914 - val_loss: 0.6461 - val_accuracy: 0.7162\n",
      "Epoch 5/30\n",
      "417/417 [==============================] - ETA: 0s - loss: 0.6987 - accuracy: 0.68 - 0s 143us/sample - loss: 0.5127 - accuracy: 0.7866 - val_loss: 0.6208 - val_accuracy: 0.7162\n",
      "Epoch 6/30\n",
      "417/417 [==============================] - ETA: 0s - loss: 0.5148 - accuracy: 0.84 - 0s 155us/sample - loss: 0.5135 - accuracy: 0.7938 - val_loss: 0.5061 - val_accuracy: 0.7703\n",
      "Epoch 7/30\n",
      "417/417 [==============================] - ETA: 0s - loss: 0.5197 - accuracy: 0.71 - 0s 141us/sample - loss: 0.4888 - accuracy: 0.7818 - val_loss: 0.5718 - val_accuracy: 0.7703\n",
      "Epoch 8/30\n",
      "417/417 [==============================] - ETA: 0s - loss: 0.3073 - accuracy: 0.90 - 0s 133us/sample - loss: 0.4752 - accuracy: 0.8082 - val_loss: 0.5877 - val_accuracy: 0.7027\n",
      "Epoch 9/30\n",
      "417/417 [==============================] - ETA: 0s - loss: 0.4535 - accuracy: 0.81 - 0s 129us/sample - loss: 0.4844 - accuracy: 0.8010 - val_loss: 0.5870 - val_accuracy: 0.7568\n",
      "Epoch 10/30\n",
      "417/417 [==============================] - ETA: 0s - loss: 0.6345 - accuracy: 0.75 - 0s 348us/sample - loss: 0.4888 - accuracy: 0.8034 - val_loss: 0.5034 - val_accuracy: 0.7838\n",
      "Epoch 11/30\n",
      "417/417 [==============================] - ETA: 0s - loss: 0.3792 - accuracy: 0.87 - ETA: 0s - loss: 0.4791 - accuracy: 0.79 - 0s 253us/sample - loss: 0.4854 - accuracy: 0.7962 - val_loss: 0.5870 - val_accuracy: 0.7568\n",
      "Epoch 12/30\n",
      "417/417 [==============================] - ETA: 0s - loss: 0.5422 - accuracy: 0.71 - ETA: 0s - loss: 0.4726 - accuracy: 0.78 - 0s 271us/sample - loss: 0.4681 - accuracy: 0.7890 - val_loss: 0.5126 - val_accuracy: 0.7838\n",
      "Epoch 13/30\n",
      "417/417 [==============================] - ETA: 0s - loss: 0.4876 - accuracy: 0.75 - ETA: 0s - loss: 0.4833 - accuracy: 0.80 - 0s 270us/sample - loss: 0.4854 - accuracy: 0.7986 - val_loss: 0.5875 - val_accuracy: 0.7568\n",
      "Epoch 14/30\n",
      "417/417 [==============================] - ETA: 0s - loss: 0.4640 - accuracy: 0.75 - ETA: 0s - loss: 0.5017 - accuracy: 0.80 - 0s 276us/sample - loss: 0.4941 - accuracy: 0.7986 - val_loss: 0.5969 - val_accuracy: 0.7838\n",
      "Epoch 15/30\n",
      "417/417 [==============================] - ETA: 0s - loss: 0.7077 - accuracy: 0.65 - ETA: 0s - loss: 0.4582 - accuracy: 0.80 - 0s 294us/sample - loss: 0.4789 - accuracy: 0.7986 - val_loss: 0.5231 - val_accuracy: 0.7838\n",
      "Epoch 16/30\n",
      "417/417 [==============================] - ETA: 0s - loss: 0.5178 - accuracy: 0.78 - ETA: 0s - loss: 0.4725 - accuracy: 0.79 - 0s 259us/sample - loss: 0.4611 - accuracy: 0.7914 - val_loss: 0.6368 - val_accuracy: 0.7703\n",
      "Epoch 17/30\n",
      "417/417 [==============================] - ETA: 0s - loss: 0.2912 - accuracy: 0.84 - ETA: 0s - loss: 0.4519 - accuracy: 0.80 - 0s 546us/sample - loss: 0.4797 - accuracy: 0.7914 - val_loss: 0.5643 - val_accuracy: 0.8108\n",
      "Epoch 18/30\n",
      "417/417 [==============================] - ETA: 0s - loss: 0.6148 - accuracy: 0.65 - ETA: 0s - loss: 0.4609 - accuracy: 0.79 - 0s 298us/sample - loss: 0.4605 - accuracy: 0.8010 - val_loss: 0.6185 - val_accuracy: 0.7838\n",
      "Epoch 19/30\n",
      "417/417 [==============================] - ETA: 0s - loss: 0.5255 - accuracy: 0.78 - ETA: 0s - loss: 0.4452 - accuracy: 0.80 - 0s 242us/sample - loss: 0.4482 - accuracy: 0.8058 - val_loss: 0.6143 - val_accuracy: 0.7432\n",
      "Epoch 20/30\n",
      "417/417 [==============================] - ETA: 0s - loss: 0.5879 - accuracy: 0.71 - 0s 167us/sample - loss: 0.4513 - accuracy: 0.8058 - val_loss: 0.5708 - val_accuracy: 0.7838\n",
      "Epoch 21/30\n",
      "417/417 [==============================] - ETA: 0s - loss: 0.3123 - accuracy: 0.90 - 0s 158us/sample - loss: 0.4769 - accuracy: 0.7914 - val_loss: 0.6231 - val_accuracy: 0.7838\n",
      "Epoch 22/30\n",
      "417/417 [==============================] - ETA: 0s - loss: 0.6529 - accuracy: 0.71 - 0s 135us/sample - loss: 0.4896 - accuracy: 0.7818 - val_loss: 0.5991 - val_accuracy: 0.7973\n",
      "Epoch 23/30\n",
      "417/417 [==============================] - ETA: 0s - loss: 0.3418 - accuracy: 0.84 - 0s 136us/sample - loss: 0.4501 - accuracy: 0.8106 - val_loss: 0.6450 - val_accuracy: 0.7703\n",
      "Epoch 24/30\n",
      "417/417 [==============================] - ETA: 0s - loss: 0.3674 - accuracy: 0.81 - 0s 135us/sample - loss: 0.4572 - accuracy: 0.7986 - val_loss: 0.6467 - val_accuracy: 0.7432\n",
      "Epoch 25/30\n",
      "417/417 [==============================] - ETA: 0s - loss: 0.4427 - accuracy: 0.81 - 0s 135us/sample - loss: 0.4617 - accuracy: 0.7986 - val_loss: 0.7619 - val_accuracy: 0.7568\n",
      "Epoch 26/30\n",
      "417/417 [==============================] - ETA: 0s - loss: 0.4269 - accuracy: 0.75 - 0s 141us/sample - loss: 0.4420 - accuracy: 0.8106 - val_loss: 0.5935 - val_accuracy: 0.7568\n",
      "Epoch 27/30\n",
      "417/417 [==============================] - ETA: 0s - loss: 0.4504 - accuracy: 0.84 - 0s 149us/sample - loss: 0.4378 - accuracy: 0.8129 - val_loss: 0.7145 - val_accuracy: 0.7162\n",
      "Epoch 28/30\n",
      "417/417 [==============================] - ETA: 0s - loss: 0.5471 - accuracy: 0.68 - 0s 145us/sample - loss: 0.4277 - accuracy: 0.8034 - val_loss: 0.7559 - val_accuracy: 0.7568\n",
      "Epoch 29/30\n",
      "417/417 [==============================] - ETA: 0s - loss: 0.4033 - accuracy: 0.78 - 0s 154us/sample - loss: 0.4294 - accuracy: 0.8106 - val_loss: 0.6535 - val_accuracy: 0.7838\n",
      "Epoch 30/30\n",
      "417/417 [==============================] - ETA: 0s - loss: 0.3687 - accuracy: 0.84 - 0s 131us/sample - loss: 0.4092 - accuracy: 0.8153 - val_loss: 0.9758 - val_accuracy: 0.7703\n"
     ]
    },
    {
     "data": {
      "text/html": [
       "<span style=\"color:#4527A0\"><h1 style=\"font-size:18px\">Trial complete</h1></span>"
      ],
      "text/plain": [
       "<IPython.core.display.HTML object>"
      ]
     },
     "metadata": {},
     "output_type": "display_data"
    },
    {
     "data": {
      "text/html": [
       "<span style=\"color:#4527A0\"><h1 style=\"font-size:18px\">Trial summary</h1></span>"
      ],
      "text/plain": [
       "<IPython.core.display.HTML object>"
      ]
     },
     "metadata": {},
     "output_type": "display_data"
    },
    {
     "data": {
      "text/html": [
       "<span style=\"color:cyan\"> |-Trial ID: 09690cb7d66e4dfb34a9481b214c1b14</span>"
      ],
      "text/plain": [
       "<IPython.core.display.HTML object>"
      ]
     },
     "metadata": {},
     "output_type": "display_data"
    },
    {
     "data": {
      "text/html": [
       "<span style=\"color:cyan\"> |-Score: 0.8108108043670654</span>"
      ],
      "text/plain": [
       "<IPython.core.display.HTML object>"
      ]
     },
     "metadata": {},
     "output_type": "display_data"
    },
    {
     "data": {
      "text/html": [
       "<span style=\"color:cyan\"> |-Best step: 0</span>"
      ],
      "text/plain": [
       "<IPython.core.display.HTML object>"
      ]
     },
     "metadata": {},
     "output_type": "display_data"
    },
    {
     "data": {
      "text/html": [
       "<span style=\"color:#7E57C2\"><h2 style=\"font-size:16px\">Hyperparameters:</h2></span>"
      ],
      "text/plain": [
       "<IPython.core.display.HTML object>"
      ]
     },
     "metadata": {},
     "output_type": "display_data"
    },
    {
     "data": {
      "text/html": [
       "<span style=\"color:cyan\"> |-learning_rate: 0.05</span>"
      ],
      "text/plain": [
       "<IPython.core.display.HTML object>"
      ]
     },
     "metadata": {},
     "output_type": "display_data"
    },
    {
     "data": {
      "text/html": [
       "<span style=\"color:blue\"> |-num_layers: 1</span>"
      ],
      "text/plain": [
       "<IPython.core.display.HTML object>"
      ]
     },
     "metadata": {},
     "output_type": "display_data"
    },
    {
     "data": {
      "text/html": [
       "<span style=\"color:cyan\"> |-units_0: 36</span>"
      ],
      "text/plain": [
       "<IPython.core.display.HTML object>"
      ]
     },
     "metadata": {},
     "output_type": "display_data"
    },
    {
     "data": {
      "text/html": [
       "<span style=\"color:blue\"> |-units_1: 28</span>"
      ],
      "text/plain": [
       "<IPython.core.display.HTML object>"
      ]
     },
     "metadata": {},
     "output_type": "display_data"
    },
    {
     "data": {
      "text/html": [
       "<span style=\"color:cyan\"> |-units_2: 44</span>"
      ],
      "text/plain": [
       "<IPython.core.display.HTML object>"
      ]
     },
     "metadata": {},
     "output_type": "display_data"
    },
    {
     "name": "stdout",
     "output_type": "stream",
     "text": [
      "Train on 417 samples, validate on 74 samples\n",
      "Epoch 1/30\n",
      "417/417 [==============================] - ETA: 15s - loss: 0.6789 - accuracy: 0.531 - 2s 4ms/sample - loss: 0.5623 - accuracy: 0.7482 - val_loss: 0.5327 - val_accuracy: 0.7568\n",
      "Epoch 2/30\n",
      "417/417 [==============================] - ETA: 0s - loss: 0.4949 - accuracy: 0.81 - 0s 168us/sample - loss: 0.4985 - accuracy: 0.8010 - val_loss: 0.5294 - val_accuracy: 0.7568\n",
      "Epoch 3/30\n",
      "417/417 [==============================] - ETA: 0s - loss: 0.2324 - accuracy: 0.96 - 0s 378us/sample - loss: 0.4731 - accuracy: 0.7938 - val_loss: 0.5439 - val_accuracy: 0.7703\n",
      "Epoch 4/30\n",
      "417/417 [==============================] - ETA: 0s - loss: 0.3388 - accuracy: 0.84 - 0s 166us/sample - loss: 0.4541 - accuracy: 0.7914 - val_loss: 0.5332 - val_accuracy: 0.7568\n",
      "Epoch 5/30\n",
      "417/417 [==============================] - ETA: 0s - loss: 0.3454 - accuracy: 0.87 - ETA: 0s - loss: 0.4471 - accuracy: 0.80 - 0s 224us/sample - loss: 0.4484 - accuracy: 0.8058 - val_loss: 0.5254 - val_accuracy: 0.7703\n",
      "Epoch 6/30\n",
      "417/417 [==============================] - ETA: 0s - loss: 0.5661 - accuracy: 0.75 - 0s 164us/sample - loss: 0.4389 - accuracy: 0.8177 - val_loss: 0.5338 - val_accuracy: 0.7568\n",
      "Epoch 7/30\n",
      "417/417 [==============================] - ETA: 0s - loss: 0.3003 - accuracy: 0.84 - 0s 181us/sample - loss: 0.4524 - accuracy: 0.7962 - val_loss: 0.5459 - val_accuracy: 0.7568\n",
      "Epoch 8/30\n",
      "417/417 [==============================] - ETA: 0s - loss: 0.3609 - accuracy: 0.90 - 0s 157us/sample - loss: 0.4373 - accuracy: 0.8082 - val_loss: 0.5524 - val_accuracy: 0.7703\n",
      "Epoch 9/30\n",
      "417/417 [==============================] - ETA: 0s - loss: 0.4939 - accuracy: 0.75 - 0s 152us/sample - loss: 0.4226 - accuracy: 0.8082 - val_loss: 0.5879 - val_accuracy: 0.7703\n",
      "Epoch 10/30\n",
      "417/417 [==============================] - ETA: 0s - loss: 0.3391 - accuracy: 0.87 - 0s 159us/sample - loss: 0.4054 - accuracy: 0.8225 - val_loss: 0.5946 - val_accuracy: 0.7432\n",
      "Epoch 11/30\n",
      "417/417 [==============================] - ETA: 0s - loss: 0.5282 - accuracy: 0.81 - 0s 146us/sample - loss: 0.4228 - accuracy: 0.8153 - val_loss: 0.6386 - val_accuracy: 0.7027\n",
      "Epoch 12/30\n",
      "417/417 [==============================] - ETA: 0s - loss: 0.3743 - accuracy: 0.84 - 0s 174us/sample - loss: 0.4098 - accuracy: 0.8249 - val_loss: 0.6083 - val_accuracy: 0.7432\n",
      "Epoch 13/30\n",
      "417/417 [==============================] - ETA: 0s - loss: 0.3317 - accuracy: 0.78 - 0s 164us/sample - loss: 0.4025 - accuracy: 0.8201 - val_loss: 0.5864 - val_accuracy: 0.7432\n",
      "Epoch 14/30\n",
      "417/417 [==============================] - ETA: 0s - loss: 0.3400 - accuracy: 0.90 - 0s 164us/sample - loss: 0.4073 - accuracy: 0.8106 - val_loss: 0.5928 - val_accuracy: 0.7297\n",
      "Epoch 15/30\n",
      "417/417 [==============================] - ETA: 0s - loss: 0.3926 - accuracy: 0.84 - 0s 153us/sample - loss: 0.4121 - accuracy: 0.8249 - val_loss: 0.6437 - val_accuracy: 0.7432\n",
      "Epoch 16/30\n",
      "417/417 [==============================] - ETA: 0s - loss: 0.3514 - accuracy: 0.84 - 0s 166us/sample - loss: 0.4129 - accuracy: 0.8153 - val_loss: 0.6286 - val_accuracy: 0.7568\n",
      "Epoch 17/30\n",
      "417/417 [==============================] - ETA: 0s - loss: 0.2463 - accuracy: 0.90 - 0s 164us/sample - loss: 0.3674 - accuracy: 0.8321 - val_loss: 0.6498 - val_accuracy: 0.7703\n",
      "Epoch 18/30\n",
      "417/417 [==============================] - ETA: 0s - loss: 0.3500 - accuracy: 0.84 - 0s 167us/sample - loss: 0.3977 - accuracy: 0.8297 - val_loss: 0.6504 - val_accuracy: 0.7297\n",
      "Epoch 19/30\n",
      "417/417 [==============================] - ETA: 0s - loss: 0.3225 - accuracy: 0.90 - 0s 156us/sample - loss: 0.3778 - accuracy: 0.8225 - val_loss: 0.7017 - val_accuracy: 0.7432\n",
      "Epoch 20/30\n",
      "417/417 [==============================] - ETA: 0s - loss: 0.3449 - accuracy: 0.84 - 0s 148us/sample - loss: 0.3813 - accuracy: 0.8177 - val_loss: 0.6902 - val_accuracy: 0.7297\n",
      "Epoch 21/30\n",
      "417/417 [==============================] - ETA: 0s - loss: 0.2221 - accuracy: 0.93 - ETA: 0s - loss: 0.3596 - accuracy: 0.84 - 0s 233us/sample - loss: 0.3606 - accuracy: 0.8417 - val_loss: 0.7160 - val_accuracy: 0.7432\n",
      "Epoch 22/30\n",
      "417/417 [==============================] - ETA: 0s - loss: 0.3024 - accuracy: 0.90 - 0s 192us/sample - loss: 0.3787 - accuracy: 0.8345 - val_loss: 0.7408 - val_accuracy: 0.7432\n",
      "Epoch 23/30\n",
      "417/417 [==============================] - ETA: 0s - loss: 0.3530 - accuracy: 0.78 - ETA: 0s - loss: 0.3595 - accuracy: 0.81 - 0s 224us/sample - loss: 0.3605 - accuracy: 0.8153 - val_loss: 0.7111 - val_accuracy: 0.7297\n",
      "Epoch 24/30\n",
      "417/417 [==============================] - ETA: 0s - loss: 0.2683 - accuracy: 0.90 - 0s 189us/sample - loss: 0.3566 - accuracy: 0.8513 - val_loss: 0.7594 - val_accuracy: 0.7703\n",
      "Epoch 25/30\n",
      "417/417 [==============================] - ETA: 0s - loss: 0.4326 - accuracy: 0.78 - ETA: 0s - loss: 0.3640 - accuracy: 0.85 - 0s 273us/sample - loss: 0.3777 - accuracy: 0.8441 - val_loss: 0.7820 - val_accuracy: 0.7162\n",
      "Epoch 26/30\n",
      "417/417 [==============================] - ETA: 0s - loss: 0.3878 - accuracy: 0.84 - ETA: 0s - loss: 0.3392 - accuracy: 0.84 - 0s 269us/sample - loss: 0.3508 - accuracy: 0.8489 - val_loss: 0.8432 - val_accuracy: 0.7162\n",
      "Epoch 27/30\n",
      "417/417 [==============================] - ETA: 0s - loss: 0.3854 - accuracy: 0.78 - ETA: 0s - loss: 0.3263 - accuracy: 0.86 - 0s 335us/sample - loss: 0.3598 - accuracy: 0.8369 - val_loss: 0.7833 - val_accuracy: 0.7162\n",
      "Epoch 28/30\n",
      "417/417 [==============================] - ETA: 0s - loss: 0.3365 - accuracy: 0.87 - ETA: 0s - loss: 0.3274 - accuracy: 0.86 - 0s 304us/sample - loss: 0.3673 - accuracy: 0.8393 - val_loss: 0.7950 - val_accuracy: 0.7432\n",
      "Epoch 29/30\n",
      "417/417 [==============================] - ETA: 0s - loss: 0.1931 - accuracy: 0.96 - ETA: 0s - loss: 0.3687 - accuracy: 0.84 - 0s 286us/sample - loss: 0.3645 - accuracy: 0.8489 - val_loss: 0.7477 - val_accuracy: 0.7432\n",
      "Epoch 30/30\n",
      "417/417 [==============================] - ETA: 0s - loss: 0.3845 - accuracy: 0.84 - ETA: 0s - loss: 0.3515 - accuracy: 0.83 - 0s 294us/sample - loss: 0.3544 - accuracy: 0.8369 - val_loss: 0.8098 - val_accuracy: 0.7297\n"
     ]
    },
    {
     "data": {
      "text/html": [
       "<span style=\"color:#4527A0\"><h1 style=\"font-size:18px\">Trial complete</h1></span>"
      ],
      "text/plain": [
       "<IPython.core.display.HTML object>"
      ]
     },
     "metadata": {},
     "output_type": "display_data"
    },
    {
     "data": {
      "text/html": [
       "<span style=\"color:#4527A0\"><h1 style=\"font-size:18px\">Trial summary</h1></span>"
      ],
      "text/plain": [
       "<IPython.core.display.HTML object>"
      ]
     },
     "metadata": {},
     "output_type": "display_data"
    },
    {
     "data": {
      "text/html": [
       "<span style=\"color:cyan\"> |-Trial ID: be75bd9b7e039dbbc3b20467fa265837</span>"
      ],
      "text/plain": [
       "<IPython.core.display.HTML object>"
      ]
     },
     "metadata": {},
     "output_type": "display_data"
    },
    {
     "data": {
      "text/html": [
       "<span style=\"color:cyan\"> |-Score: 0.7702702879905701</span>"
      ],
      "text/plain": [
       "<IPython.core.display.HTML object>"
      ]
     },
     "metadata": {},
     "output_type": "display_data"
    },
    {
     "data": {
      "text/html": [
       "<span style=\"color:cyan\"> |-Best step: 0</span>"
      ],
      "text/plain": [
       "<IPython.core.display.HTML object>"
      ]
     },
     "metadata": {},
     "output_type": "display_data"
    },
    {
     "data": {
      "text/html": [
       "<span style=\"color:#7E57C2\"><h2 style=\"font-size:16px\">Hyperparameters:</h2></span>"
      ],
      "text/plain": [
       "<IPython.core.display.HTML object>"
      ]
     },
     "metadata": {},
     "output_type": "display_data"
    },
    {
     "data": {
      "text/html": [
       "<span style=\"color:cyan\"> |-learning_rate: 0.007</span>"
      ],
      "text/plain": [
       "<IPython.core.display.HTML object>"
      ]
     },
     "metadata": {},
     "output_type": "display_data"
    },
    {
     "data": {
      "text/html": [
       "<span style=\"color:blue\"> |-num_layers: 2</span>"
      ],
      "text/plain": [
       "<IPython.core.display.HTML object>"
      ]
     },
     "metadata": {},
     "output_type": "display_data"
    },
    {
     "data": {
      "text/html": [
       "<span style=\"color:cyan\"> |-units_0: 20</span>"
      ],
      "text/plain": [
       "<IPython.core.display.HTML object>"
      ]
     },
     "metadata": {},
     "output_type": "display_data"
    },
    {
     "data": {
      "text/html": [
       "<span style=\"color:blue\"> |-units_1: 44</span>"
      ],
      "text/plain": [
       "<IPython.core.display.HTML object>"
      ]
     },
     "metadata": {},
     "output_type": "display_data"
    },
    {
     "data": {
      "text/html": [
       "<span style=\"color:cyan\"> |-units_2: 44</span>"
      ],
      "text/plain": [
       "<IPython.core.display.HTML object>"
      ]
     },
     "metadata": {},
     "output_type": "display_data"
    },
    {
     "name": "stdout",
     "output_type": "stream",
     "text": [
      "Train on 417 samples, validate on 74 samples\n",
      "Epoch 1/30\n",
      "417/417 [==============================] - ETA: 21s - loss: 0.6883 - accuracy: 0.687 - 2s 5ms/sample - loss: 0.5938 - accuracy: 0.7266 - val_loss: 0.5712 - val_accuracy: 0.7162\n",
      "Epoch 2/30\n",
      "417/417 [==============================] - ETA: 0s - loss: 0.6638 - accuracy: 0.71 - ETA: 0s - loss: 0.5009 - accuracy: 0.78 - 0s 380us/sample - loss: 0.5204 - accuracy: 0.7626 - val_loss: 0.6200 - val_accuracy: 0.7568\n",
      "Epoch 3/30\n",
      "417/417 [==============================] - ETA: 0s - loss: 0.3119 - accuracy: 0.90 - ETA: 0s - loss: 0.4444 - accuracy: 0.81 - 0s 340us/sample - loss: 0.4538 - accuracy: 0.8106 - val_loss: 0.5750 - val_accuracy: 0.7838\n",
      "Epoch 4/30\n",
      "417/417 [==============================] - ETA: 0s - loss: 0.4690 - accuracy: 0.81 - ETA: 0s - loss: 0.4542 - accuracy: 0.81 - 0s 208us/sample - loss: 0.4548 - accuracy: 0.8082 - val_loss: 0.5951 - val_accuracy: 0.7703\n",
      "Epoch 5/30\n",
      "417/417 [==============================] - ETA: 0s - loss: 0.4098 - accuracy: 0.81 - 0s 187us/sample - loss: 0.4299 - accuracy: 0.8225 - val_loss: 0.5925 - val_accuracy: 0.7297\n",
      "Epoch 6/30\n",
      "417/417 [==============================] - ETA: 0s - loss: 0.2416 - accuracy: 0.93 - ETA: 0s - loss: 0.4398 - accuracy: 0.82 - 0s 215us/sample - loss: 0.4404 - accuracy: 0.8225 - val_loss: 0.5574 - val_accuracy: 0.7703\n",
      "Epoch 7/30\n",
      "417/417 [==============================] - ETA: 0s - loss: 0.3105 - accuracy: 0.84 - ETA: 0s - loss: 0.4339 - accuracy: 0.81 - 0s 211us/sample - loss: 0.4345 - accuracy: 0.8106 - val_loss: 0.5257 - val_accuracy: 0.7703\n",
      "Epoch 8/30\n",
      "417/417 [==============================] - ETA: 0s - loss: 0.3497 - accuracy: 0.78 - ETA: 0s - loss: 0.4290 - accuracy: 0.81 - 0s 209us/sample - loss: 0.4297 - accuracy: 0.8106 - val_loss: 0.5410 - val_accuracy: 0.7838\n",
      "Epoch 9/30\n",
      "417/417 [==============================] - ETA: 0s - loss: 0.4109 - accuracy: 0.81 - 0s 431us/sample - loss: 0.4099 - accuracy: 0.8058 - val_loss: 0.5414 - val_accuracy: 0.7973\n",
      "Epoch 10/30\n",
      "417/417 [==============================] - ETA: 0s - loss: 0.4404 - accuracy: 0.81 - ETA: 0s - loss: 0.4251 - accuracy: 0.83 - 0s 279us/sample - loss: 0.4139 - accuracy: 0.8225 - val_loss: 0.5826 - val_accuracy: 0.7568\n",
      "Epoch 11/30\n",
      "417/417 [==============================] - ETA: 0s - loss: 0.3787 - accuracy: 0.84 - ETA: 0s - loss: 0.4024 - accuracy: 0.83 - 0s 285us/sample - loss: 0.4139 - accuracy: 0.8249 - val_loss: 0.5635 - val_accuracy: 0.7703\n",
      "Epoch 12/30\n",
      "417/417 [==============================] - ETA: 0s - loss: 0.4268 - accuracy: 0.78 - ETA: 0s - loss: 0.4184 - accuracy: 0.80 - 0s 275us/sample - loss: 0.3906 - accuracy: 0.8273 - val_loss: 0.5764 - val_accuracy: 0.7838\n",
      "Epoch 13/30\n",
      "417/417 [==============================] - ETA: 0s - loss: 0.4040 - accuracy: 0.78 - ETA: 0s - loss: 0.3537 - accuracy: 0.82 - 0s 334us/sample - loss: 0.3761 - accuracy: 0.8201 - val_loss: 0.6005 - val_accuracy: 0.7568\n",
      "Epoch 14/30\n",
      "417/417 [==============================] - ETA: 0s - loss: 0.5518 - accuracy: 0.78 - ETA: 0s - loss: 0.3838 - accuracy: 0.83 - 0s 288us/sample - loss: 0.4119 - accuracy: 0.8249 - val_loss: 0.5524 - val_accuracy: 0.7568\n",
      "Epoch 15/30\n",
      "417/417 [==============================] - ETA: 0s - loss: 0.3345 - accuracy: 0.84 - ETA: 0s - loss: 0.3793 - accuracy: 0.81 - 0s 291us/sample - loss: 0.3753 - accuracy: 0.8106 - val_loss: 0.6039 - val_accuracy: 0.7703\n",
      "Epoch 16/30\n",
      "417/417 [==============================] - ETA: 0s - loss: 0.3102 - accuracy: 0.84 - 0s 183us/sample - loss: 0.3509 - accuracy: 0.8585 - val_loss: 0.6101 - val_accuracy: 0.7838\n",
      "Epoch 17/30\n",
      "417/417 [==============================] - ETA: 0s - loss: 0.3265 - accuracy: 0.84 - 0s 170us/sample - loss: 0.3896 - accuracy: 0.8153 - val_loss: 0.6252 - val_accuracy: 0.7703\n",
      "Epoch 18/30\n",
      "417/417 [==============================] - ETA: 0s - loss: 0.2050 - accuracy: 0.90 - ETA: 0s - loss: 0.3366 - accuracy: 0.85 - 0s 222us/sample - loss: 0.3371 - accuracy: 0.8561 - val_loss: 0.6051 - val_accuracy: 0.7027\n",
      "Epoch 19/30\n",
      "417/417 [==============================] - ETA: 0s - loss: 0.4002 - accuracy: 0.87 - 0s 149us/sample - loss: 0.3945 - accuracy: 0.8225 - val_loss: 0.7551 - val_accuracy: 0.7297\n",
      "Epoch 20/30\n",
      "417/417 [==============================] - ETA: 0s - loss: 0.3512 - accuracy: 0.84 - 0s 164us/sample - loss: 0.3627 - accuracy: 0.8369 - val_loss: 0.6923 - val_accuracy: 0.7568\n",
      "Epoch 21/30\n",
      "417/417 [==============================] - ETA: 0s - loss: 0.3910 - accuracy: 0.81 - ETA: 0s - loss: 0.3620 - accuracy: 0.84 - 0s 234us/sample - loss: 0.3598 - accuracy: 0.8489 - val_loss: 0.7679 - val_accuracy: 0.7297\n",
      "Epoch 22/30\n",
      "417/417 [==============================] - ETA: 0s - loss: 0.2070 - accuracy: 0.96 - ETA: 0s - loss: 0.3731 - accuracy: 0.83 - 0s 222us/sample - loss: 0.3721 - accuracy: 0.8441 - val_loss: 0.8241 - val_accuracy: 0.7297\n",
      "Epoch 23/30\n",
      "417/417 [==============================] - ETA: 0s - loss: 0.2392 - accuracy: 0.90 - ETA: 0s - loss: 0.3550 - accuracy: 0.83 - 0s 246us/sample - loss: 0.3566 - accuracy: 0.8369 - val_loss: 0.9978 - val_accuracy: 0.7162\n",
      "Epoch 24/30\n",
      "417/417 [==============================] - ETA: 0s - loss: 0.1832 - accuracy: 0.96 - ETA: 0s - loss: 0.3017 - accuracy: 0.85 - 0s 228us/sample - loss: 0.3417 - accuracy: 0.8417 - val_loss: 1.1135 - val_accuracy: 0.7297\n",
      "Epoch 25/30\n",
      "417/417 [==============================] - ETA: 0s - loss: 0.2462 - accuracy: 0.90 - 0s 186us/sample - loss: 0.3284 - accuracy: 0.8417 - val_loss: 1.1485 - val_accuracy: 0.7297\n",
      "Epoch 26/30\n",
      "417/417 [==============================] - ETA: 0s - loss: 0.2710 - accuracy: 0.93 - ETA: 0s - loss: 0.3175 - accuracy: 0.86 - 0s 321us/sample - loss: 0.3306 - accuracy: 0.8633 - val_loss: 1.2060 - val_accuracy: 0.7297\n",
      "Epoch 27/30\n",
      "417/417 [==============================] - ETA: 0s - loss: 0.1551 - accuracy: 0.90 - ETA: 0s - loss: 0.3516 - accuracy: 0.84 - 0s 285us/sample - loss: 0.3453 - accuracy: 0.8441 - val_loss: 1.1913 - val_accuracy: 0.7432\n",
      "Epoch 28/30\n",
      "417/417 [==============================] - ETA: 0s - loss: 0.3322 - accuracy: 0.84 - 0s 176us/sample - loss: 0.3219 - accuracy: 0.8417 - val_loss: 0.9909 - val_accuracy: 0.7297\n",
      "Epoch 29/30\n",
      "417/417 [==============================] - ETA: 0s - loss: 0.2482 - accuracy: 0.87 - 0s 191us/sample - loss: 0.3308 - accuracy: 0.8465 - val_loss: 1.0637 - val_accuracy: 0.7162\n",
      "Epoch 30/30\n",
      "417/417 [==============================] - ETA: 0s - loss: 0.5581 - accuracy: 0.68 - ETA: 0s - loss: 0.3184 - accuracy: 0.84 - 0s 333us/sample - loss: 0.3259 - accuracy: 0.8489 - val_loss: 1.0708 - val_accuracy: 0.7162\n"
     ]
    },
    {
     "data": {
      "text/html": [
       "<span style=\"color:#4527A0\"><h1 style=\"font-size:18px\">Trial complete</h1></span>"
      ],
      "text/plain": [
       "<IPython.core.display.HTML object>"
      ]
     },
     "metadata": {},
     "output_type": "display_data"
    },
    {
     "data": {
      "text/html": [
       "<span style=\"color:#4527A0\"><h1 style=\"font-size:18px\">Trial summary</h1></span>"
      ],
      "text/plain": [
       "<IPython.core.display.HTML object>"
      ]
     },
     "metadata": {},
     "output_type": "display_data"
    },
    {
     "data": {
      "text/html": [
       "<span style=\"color:cyan\"> |-Trial ID: 3c6f42270b60052a6ff48e10db212a0d</span>"
      ],
      "text/plain": [
       "<IPython.core.display.HTML object>"
      ]
     },
     "metadata": {},
     "output_type": "display_data"
    },
    {
     "data": {
      "text/html": [
       "<span style=\"color:cyan\"> |-Score: 0.7972972989082336</span>"
      ],
      "text/plain": [
       "<IPython.core.display.HTML object>"
      ]
     },
     "metadata": {},
     "output_type": "display_data"
    },
    {
     "data": {
      "text/html": [
       "<span style=\"color:cyan\"> |-Best step: 0</span>"
      ],
      "text/plain": [
       "<IPython.core.display.HTML object>"
      ]
     },
     "metadata": {},
     "output_type": "display_data"
    },
    {
     "data": {
      "text/html": [
       "<span style=\"color:#7E57C2\"><h2 style=\"font-size:16px\">Hyperparameters:</h2></span>"
      ],
      "text/plain": [
       "<IPython.core.display.HTML object>"
      ]
     },
     "metadata": {},
     "output_type": "display_data"
    },
    {
     "data": {
      "text/html": [
       "<span style=\"color:cyan\"> |-learning_rate: 0.01</span>"
      ],
      "text/plain": [
       "<IPython.core.display.HTML object>"
      ]
     },
     "metadata": {},
     "output_type": "display_data"
    },
    {
     "data": {
      "text/html": [
       "<span style=\"color:blue\"> |-num_layers: 3</span>"
      ],
      "text/plain": [
       "<IPython.core.display.HTML object>"
      ]
     },
     "metadata": {},
     "output_type": "display_data"
    },
    {
     "data": {
      "text/html": [
       "<span style=\"color:cyan\"> |-units_0: 28</span>"
      ],
      "text/plain": [
       "<IPython.core.display.HTML object>"
      ]
     },
     "metadata": {},
     "output_type": "display_data"
    },
    {
     "data": {
      "text/html": [
       "<span style=\"color:blue\"> |-units_1: 20</span>"
      ],
      "text/plain": [
       "<IPython.core.display.HTML object>"
      ]
     },
     "metadata": {},
     "output_type": "display_data"
    },
    {
     "data": {
      "text/html": [
       "<span style=\"color:cyan\"> |-units_2: 44</span>"
      ],
      "text/plain": [
       "<IPython.core.display.HTML object>"
      ]
     },
     "metadata": {},
     "output_type": "display_data"
    },
    {
     "name": "stdout",
     "output_type": "stream",
     "text": [
      "Train on 417 samples, validate on 74 samples\n",
      "Epoch 1/30\n",
      "417/417 [==============================] - ETA: 16s - loss: 0.8364 - accuracy: 0.531 - 2s 4ms/sample - loss: 1.1259 - accuracy: 0.7074 - val_loss: 0.5336 - val_accuracy: 0.7568\n",
      "Epoch 2/30\n",
      "417/417 [==============================] - ETA: 0s - loss: 0.4553 - accuracy: 0.84 - ETA: 0s - loss: 0.5194 - accuracy: 0.79 - 0s 451us/sample - loss: 0.5313 - accuracy: 0.7914 - val_loss: 0.5636 - val_accuracy: 0.7703\n",
      "Epoch 3/30\n",
      "417/417 [==============================] - ETA: 0s - loss: 0.6162 - accuracy: 0.78 - ETA: 0s - loss: 0.5139 - accuracy: 0.77 - 0s 410us/sample - loss: 0.5145 - accuracy: 0.7818 - val_loss: 0.5773 - val_accuracy: 0.7838\n",
      "Epoch 4/30\n",
      "417/417 [==============================] - ETA: 0s - loss: 0.4646 - accuracy: 0.84 - ETA: 0s - loss: 0.5464 - accuracy: 0.76 - 0s 313us/sample - loss: 0.5366 - accuracy: 0.7794 - val_loss: 0.7707 - val_accuracy: 0.7432\n",
      "Epoch 5/30\n",
      "417/417 [==============================] - ETA: 0s - loss: 0.6000 - accuracy: 0.78 - ETA: 0s - loss: 0.5842 - accuracy: 0.74 - 0s 264us/sample - loss: 0.5582 - accuracy: 0.7650 - val_loss: 0.5975 - val_accuracy: 0.7838\n",
      "Epoch 6/30\n",
      "417/417 [==============================] - ETA: 0s - loss: 0.4111 - accuracy: 0.84 - ETA: 0s - loss: 0.4879 - accuracy: 0.80 - 0s 530us/sample - loss: 0.5066 - accuracy: 0.7914 - val_loss: 0.5832 - val_accuracy: 0.7973\n",
      "Epoch 7/30\n",
      "417/417 [==============================] - ETA: 0s - loss: 0.4995 - accuracy: 0.84 - ETA: 0s - loss: 0.5020 - accuracy: 0.80 - ETA: 0s - loss: 0.5098 - accuracy: 0.79 - 0s 409us/sample - loss: 0.5103 - accuracy: 0.7914 - val_loss: 0.7026 - val_accuracy: 0.7027\n",
      "Epoch 8/30\n",
      "417/417 [==============================] - ETA: 0s - loss: 0.7326 - accuracy: 0.71 - ETA: 0s - loss: 0.6379 - accuracy: 0.75 - 0s 220us/sample - loss: 0.6394 - accuracy: 0.7506 - val_loss: 0.5886 - val_accuracy: 0.7297\n",
      "Epoch 9/30\n",
      "417/417 [==============================] - ETA: 0s - loss: 0.4424 - accuracy: 0.93 - 0s 179us/sample - loss: 0.5294 - accuracy: 0.7794 - val_loss: 0.5561 - val_accuracy: 0.7568\n",
      "Epoch 10/30\n",
      "417/417 [==============================] - ETA: 0s - loss: 0.6119 - accuracy: 0.68 - ETA: 0s - loss: 0.5642 - accuracy: 0.77 - 0s 472us/sample - loss: 0.5619 - accuracy: 0.7770 - val_loss: 0.5161 - val_accuracy: 0.8108\n",
      "Epoch 11/30\n",
      "417/417 [==============================] - ETA: 0s - loss: 0.5349 - accuracy: 0.75 - ETA: 0s - loss: 0.5564 - accuracy: 0.76 - ETA: 0s - loss: 0.5302 - accuracy: 0.78 - 0s 380us/sample - loss: 0.5295 - accuracy: 0.7842 - val_loss: 0.5570 - val_accuracy: 0.7703\n",
      "Epoch 12/30\n",
      "417/417 [==============================] - ETA: 0s - loss: 0.5137 - accuracy: 0.78 - ETA: 0s - loss: 0.5230 - accuracy: 0.77 - 0s 324us/sample - loss: 0.5196 - accuracy: 0.7842 - val_loss: 0.5201 - val_accuracy: 0.8108\n",
      "Epoch 13/30\n",
      "417/417 [==============================] - ETA: 0s - loss: 0.5813 - accuracy: 0.78 - ETA: 0s - loss: 0.5178 - accuracy: 0.78 - 0s 329us/sample - loss: 0.5074 - accuracy: 0.7986 - val_loss: 0.5734 - val_accuracy: 0.8108\n",
      "Epoch 14/30\n",
      "417/417 [==============================] - ETA: 0s - loss: 0.5241 - accuracy: 0.78 - ETA: 0s - loss: 0.7623 - accuracy: 0.77 - 0s 328us/sample - loss: 0.6505 - accuracy: 0.7986 - val_loss: 0.6492 - val_accuracy: 0.7973\n",
      "Epoch 15/30\n",
      "417/417 [==============================] - ETA: 0s - loss: 0.8176 - accuracy: 0.71 - ETA: 0s - loss: 0.5281 - accuracy: 0.80 - 0s 255us/sample - loss: 0.5403 - accuracy: 0.7866 - val_loss: 2.1774 - val_accuracy: 0.2838\n",
      "Epoch 16/30\n",
      "417/417 [==============================] - ETA: 0s - loss: 1.1144 - accuracy: 0.37 - 0s 171us/sample - loss: 0.5395 - accuracy: 0.7674 - val_loss: 1.4902 - val_accuracy: 0.2703\n",
      "Epoch 17/30\n",
      "417/417 [==============================] - ETA: 0s - loss: 0.8523 - accuracy: 0.40 - ETA: 0s - loss: 0.5555 - accuracy: 0.75 - 0s 328us/sample - loss: 0.5481 - accuracy: 0.7506 - val_loss: 0.7238 - val_accuracy: 0.7973\n",
      "Epoch 18/30\n",
      "417/417 [==============================] - ETA: 0s - loss: 0.5048 - accuracy: 0.78 - ETA: 0s - loss: 0.5448 - accuracy: 0.78 - 0s 386us/sample - loss: 0.5555 - accuracy: 0.7722 - val_loss: 0.5077 - val_accuracy: 0.7973\n",
      "Epoch 19/30\n",
      "417/417 [==============================] - ETA: 0s - loss: 0.4699 - accuracy: 0.81 - ETA: 0s - loss: 0.4889 - accuracy: 0.80 - ETA: 0s - loss: 0.4975 - accuracy: 0.79 - 0s 415us/sample - loss: 0.4969 - accuracy: 0.7938 - val_loss: 0.7802 - val_accuracy: 0.7703\n",
      "Epoch 20/30\n",
      "417/417 [==============================] - ETA: 0s - loss: 0.5323 - accuracy: 0.78 - ETA: 0s - loss: 0.5487 - accuracy: 0.76 - ETA: 0s - loss: 0.5132 - accuracy: 0.77 - 0s 407us/sample - loss: 0.5126 - accuracy: 0.7770 - val_loss: 0.6608 - val_accuracy: 0.7973\n",
      "Epoch 21/30\n",
      "417/417 [==============================] - ETA: 0s - loss: 0.5345 - accuracy: 0.75 - ETA: 0s - loss: 0.4728 - accuracy: 0.79 - ETA: 0s - loss: 0.4867 - accuracy: 0.79 - 0s 406us/sample - loss: 0.4861 - accuracy: 0.7962 - val_loss: 0.8141 - val_accuracy: 0.7973\n",
      "Epoch 22/30\n",
      "417/417 [==============================] - ETA: 0s - loss: 0.6552 - accuracy: 0.65 - ETA: 0s - loss: 0.4760 - accuracy: 0.79 - ETA: 0s - loss: 0.5327 - accuracy: 0.78 - 0s 369us/sample - loss: 0.5321 - accuracy: 0.7866 - val_loss: 0.7084 - val_accuracy: 0.7973\n",
      "Epoch 23/30\n",
      "417/417 [==============================] - ETA: 0s - loss: 0.6061 - accuracy: 0.71 - 0s 164us/sample - loss: 0.5572 - accuracy: 0.8010 - val_loss: 2.8243 - val_accuracy: 0.7838\n",
      "Epoch 24/30\n",
      "417/417 [==============================] - ETA: 0s - loss: 0.4843 - accuracy: 0.84 - 0s 183us/sample - loss: 0.6900 - accuracy: 0.7818 - val_loss: 0.5981 - val_accuracy: 0.7162\n",
      "Epoch 25/30\n",
      "417/417 [==============================] - ETA: 0s - loss: 0.8216 - accuracy: 0.53 - 0s 175us/sample - loss: 0.5719 - accuracy: 0.7770 - val_loss: 0.7064 - val_accuracy: 0.7838\n",
      "Epoch 26/30\n",
      "417/417 [==============================] - ETA: 0s - loss: 0.4669 - accuracy: 0.84 - ETA: 0s - loss: 0.5472 - accuracy: 0.75 - 0s 209us/sample - loss: 0.5466 - accuracy: 0.7578 - val_loss: 0.6545 - val_accuracy: 0.7838\n",
      "Epoch 27/30\n",
      "417/417 [==============================] - ETA: 0s - loss: 0.4526 - accuracy: 0.81 - ETA: 0s - loss: 0.5083 - accuracy: 0.79 - 0s 213us/sample - loss: 0.5077 - accuracy: 0.7962 - val_loss: 0.8214 - val_accuracy: 0.7838\n",
      "Epoch 28/30\n",
      "417/417 [==============================] - ETA: 0s - loss: 0.3722 - accuracy: 0.87 - ETA: 0s - loss: 0.5612 - accuracy: 0.79 - 0s 205us/sample - loss: 0.5605 - accuracy: 0.7914 - val_loss: 0.4645 - val_accuracy: 0.8108\n",
      "Epoch 29/30\n",
      "417/417 [==============================] - ETA: 0s - loss: 0.5883 - accuracy: 0.68 - 0s 140us/sample - loss: 0.4716 - accuracy: 0.7986 - val_loss: 4.6145 - val_accuracy: 0.2838\n",
      "Epoch 30/30\n",
      "417/417 [==============================] - ETA: 0s - loss: 3.0358 - accuracy: 0.40 - 0s 183us/sample - loss: 0.7450 - accuracy: 0.7626 - val_loss: 0.7046 - val_accuracy: 0.8108\n"
     ]
    },
    {
     "data": {
      "text/html": [
       "<span style=\"color:#4527A0\"><h1 style=\"font-size:18px\">Trial complete</h1></span>"
      ],
      "text/plain": [
       "<IPython.core.display.HTML object>"
      ]
     },
     "metadata": {},
     "output_type": "display_data"
    },
    {
     "data": {
      "text/html": [
       "<span style=\"color:#4527A0\"><h1 style=\"font-size:18px\">Trial summary</h1></span>"
      ],
      "text/plain": [
       "<IPython.core.display.HTML object>"
      ]
     },
     "metadata": {},
     "output_type": "display_data"
    },
    {
     "data": {
      "text/html": [
       "<span style=\"color:cyan\"> |-Trial ID: bcda3752e412e0e5a056db194e9e13f5</span>"
      ],
      "text/plain": [
       "<IPython.core.display.HTML object>"
      ]
     },
     "metadata": {},
     "output_type": "display_data"
    },
    {
     "data": {
      "text/html": [
       "<span style=\"color:cyan\"> |-Score: 0.8108108043670654</span>"
      ],
      "text/plain": [
       "<IPython.core.display.HTML object>"
      ]
     },
     "metadata": {},
     "output_type": "display_data"
    },
    {
     "data": {
      "text/html": [
       "<span style=\"color:cyan\"> |-Best step: 0</span>"
      ],
      "text/plain": [
       "<IPython.core.display.HTML object>"
      ]
     },
     "metadata": {},
     "output_type": "display_data"
    },
    {
     "data": {
      "text/html": [
       "<span style=\"color:#7E57C2\"><h2 style=\"font-size:16px\">Hyperparameters:</h2></span>"
      ],
      "text/plain": [
       "<IPython.core.display.HTML object>"
      ]
     },
     "metadata": {},
     "output_type": "display_data"
    },
    {
     "data": {
      "text/html": [
       "<span style=\"color:cyan\"> |-learning_rate: 0.1</span>"
      ],
      "text/plain": [
       "<IPython.core.display.HTML object>"
      ]
     },
     "metadata": {},
     "output_type": "display_data"
    },
    {
     "data": {
      "text/html": [
       "<span style=\"color:blue\"> |-num_layers: 2</span>"
      ],
      "text/plain": [
       "<IPython.core.display.HTML object>"
      ]
     },
     "metadata": {},
     "output_type": "display_data"
    },
    {
     "data": {
      "text/html": [
       "<span style=\"color:cyan\"> |-units_0: 28</span>"
      ],
      "text/plain": [
       "<IPython.core.display.HTML object>"
      ]
     },
     "metadata": {},
     "output_type": "display_data"
    },
    {
     "data": {
      "text/html": [
       "<span style=\"color:blue\"> |-units_1: 36</span>"
      ],
      "text/plain": [
       "<IPython.core.display.HTML object>"
      ]
     },
     "metadata": {},
     "output_type": "display_data"
    },
    {
     "data": {
      "text/html": [
       "<span style=\"color:cyan\"> |-units_2: 36</span>"
      ],
      "text/plain": [
       "<IPython.core.display.HTML object>"
      ]
     },
     "metadata": {},
     "output_type": "display_data"
    },
    {
     "name": "stdout",
     "output_type": "stream",
     "text": [
      "INFO:tensorflow:Oracle triggered exit\n"
     ]
    }
   ],
   "source": [
    "tuner.search(x_train, y_train,\n",
    "             epochs= 30 ,\n",
    "             validation_split = 0.15)"
   ]
  },
  {
   "cell_type": "code",
   "execution_count": null,
   "metadata": {},
   "outputs": [],
   "source": [
    "tuner.results_summary()"
   ]
  },
  {
   "cell_type": "code",
   "execution_count": 60,
   "metadata": {},
   "outputs": [
    {
     "name": "stdout",
     "output_type": "stream",
     "text": [
      "WARNING:tensorflow:Unresolved object in checkpoint: (root).optimizer.iter\n",
      "WARNING:tensorflow:Unresolved object in checkpoint: (root).optimizer.decay\n",
      "WARNING:tensorflow:Unresolved object in checkpoint: (root).optimizer.learning_rate\n",
      "WARNING:tensorflow:Unresolved object in checkpoint: (root).optimizer.momentum\n",
      "WARNING:tensorflow:Unresolved object in checkpoint: (root).optimizer.rho\n",
      "WARNING:tensorflow:A checkpoint was restored (e.g. tf.train.Checkpoint.restore or tf.keras.Model.load_weights) but not all checkpointed values were used. See above for specific issues. Use expect_partial() on the load status object, e.g. tf.train.Checkpoint.restore(...).expect_partial(), to silence these warnings, or use assert_consumed() to make the check explicit. See https://www.tensorflow.org/guide/checkpoint#loading_mechanics for details.\n"
     ]
    },
    {
     "data": {
      "text/plain": [
       "array([[24, 14],\n",
       "       [ 7, 78]], dtype=int64)"
      ]
     },
     "execution_count": 60,
     "metadata": {},
     "output_type": "execute_result"
    }
   ],
   "source": [
    "model_best = tuner.get_best_models(num_models= 1)[0]\n",
    "y_pred  = []\n",
    "\n",
    "y_pred_prob = model_best.predict(x_test)\n",
    "\n",
    "for w in y_pred_prob:\n",
    "    if w < 0.5 :\n",
    "        y_pred.append(0)\n",
    "    else:\n",
    "        y_pred.append(1)\n",
    " \n"
   ]
  },
  {
   "cell_type": "code",
   "execution_count": 63,
   "metadata": {},
   "outputs": [
    {
     "name": "stdout",
     "output_type": "stream",
     "text": [
      "0.8478260869565217\n",
      "0.8292682926829268\n",
      "0.8813559322033897\n"
     ]
    }
   ],
   "source": [
    "precision = precision_score(y_test,y_pred)\n",
    "accuracy = accuracy_score(y_test,y_pred)\n",
    "\n",
    "confusion_matrix(y_test,y_pred)\n",
    "print(precision)\n",
    "print(accuracy)\n",
    "print(f1_score)\n",
    "\n"
   ]
  }
 ],
 "metadata": {
  "kernelspec": {
   "display_name": "Python 3",
   "language": "python",
   "name": "python3"
  },
  "language_info": {
   "codemirror_mode": {
    "name": "ipython",
    "version": 3
   },
   "file_extension": ".py",
   "mimetype": "text/x-python",
   "name": "python",
   "nbconvert_exporter": "python",
   "pygments_lexer": "ipython3",
   "version": "3.7.6"
  }
 },
 "nbformat": 4,
 "nbformat_minor": 4
}
